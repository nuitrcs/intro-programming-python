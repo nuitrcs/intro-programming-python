{
 "cells": [
  {
   "cell_type": "markdown",
   "metadata": {},
   "source": [
    "### Name this notebook: Python Intro"
   ]
  },
  {
   "cell_type": "markdown",
   "metadata": {},
   "source": [
    "#### Review icons "
   ]
  },
  {
   "cell_type": "markdown",
   "metadata": {},
   "source": [
    "#### Review types of cells: Code, Markdown, RawNBConvert (not applicable), Heading (obsolete)"
   ]
  },
  {
   "cell_type": "markdown",
   "metadata": {},
   "source": [
    "### Remember: Python is Fun!"
   ]
  },
  {
   "cell_type": "code",
   "execution_count": null,
   "metadata": {
    "collapsed": false
   },
   "outputs": [],
   "source": [
    "<img src=\"https://imgs.xkcd.com/comics/python.png\">\n",
    "<h1>Jupiter Notebooks can render HTML</h1>"
   ]
  },
  {
   "cell_type": "markdown",
   "metadata": {},
   "source": [
    "https://github.com/nuitrcs/pythonworkshops"
   ]
  },
  {
   "cell_type": "markdown",
   "metadata": {},
   "source": [
    "### Jupyter Notbeooks can render LaTex"
   ]
  },
  {
   "cell_type": "code",
   "execution_count": null,
   "metadata": {
    "collapsed": false
   },
   "outputs": [],
   "source": [
    "%%latex\n",
    "\\begin{equation}\n",
    "\\int_{-\\infty}^\\infty f(x) \\delta(x - x_0) dx = f(x_0)\n",
    "\\end{equation}"
   ]
  },
  {
   "cell_type": "markdown",
   "metadata": {},
   "source": [
    "### Jupyter Notebooks can import libraries to display images and videos"
   ]
  },
  {
   "cell_type": "code",
   "execution_count": null,
   "metadata": {
    "collapsed": false
   },
   "outputs": [],
   "source": [
    "from IPython.display import display, Image, SVG, Math, YouTubeVideo\n",
    "YouTubeVideo('iV2ViNJFZC8')"
   ]
  },
  {
   "cell_type": "markdown",
   "metadata": {},
   "source": [
    "### Python was named after Monty Python, and has a distinct philosophy:"
   ]
  },
  {
   "cell_type": "code",
   "execution_count": null,
   "metadata": {
    "collapsed": false
   },
   "outputs": [],
   "source": [
    "import this"
   ]
  },
  {
   "cell_type": "markdown",
   "metadata": {},
   "source": [
    "### \"To say that code is pythonic is to say that it uses Python idioms well, that it is natural or shows fluency in the language, that it conforms with Python's minimalist philosophy and emphasis on readability.\""
   ]
  },
  {
   "cell_type": "markdown",
   "metadata": {},
   "source": [
    "### Begin at the Beginning: Printing in Python"
   ]
  },
  {
   "cell_type": "code",
   "execution_count": null,
   "metadata": {
    "collapsed": false
   },
   "outputs": [],
   "source": [
    "print(\"Hello world!\")\n",
    "print(\"Hello again.\")\n",
    "print(\"We can print things that contain 'single quotes'.\")\n",
    "print(\"We can print things that contain \\\"double quotes\\\".\")"
   ]
  },
  {
   "cell_type": "markdown",
   "metadata": {},
   "source": [
    "### Comments"
   ]
  },
  {
   "cell_type": "code",
   "execution_count": null,
   "metadata": {
    "collapsed": false
   },
   "outputs": [],
   "source": [
    "# This is a \"comment\".  You want to include them in your notebook\n",
    "\n",
    "# Comments begin with a # character.\n",
    "\n",
    "# Python will ignore any line that begins with #.\n",
    "\n",
    "print(\"Python won't ignore this line.\")\n",
    "\n",
    "# Comments do not have to be an entire line.\n",
    "\n",
    "print(\"This line has a comment at the end of it.\") # This is another comment.\n",
    "\n",
    "# Normally comments are a whole line to themselves though. They are easier to\n",
    "# read that way.\n",
    "\n",
    "# We use comments to leave notes for the people who will be reading our code.\n",
    "\n",
    "# Comments can also be used to \"disable\" or \"hide\" a line of code:\n",
    "# print(\"Python will ignore this line\")\n",
    "\n",
    "# Try removing the # character from the previous line, then run the script again\n",
    "# and see what happens."
   ]
  },
  {
   "cell_type": "markdown",
   "metadata": {},
   "source": [
    "### Math: Math slide #1"
   ]
  },
  {
   "cell_type": "code",
   "execution_count": null,
   "metadata": {
    "collapsed": false
   },
   "outputs": [],
   "source": [
    "# Python makes a handy calculator!\n",
    "\n",
    "print(\"5 + 1 =\", 5 + 1)   #quotes matter\n",
    "print(\"10 / 3 =\", 10/3)   #floating point fun\n",
    "print(\"67 squared =\", 67**2)   #* is mult, ** is squared, what is ***? (show an error)\n",
    "\n",
    "# In fact rather than using your operating system's built-in calculator program,\n",
    "# I encourage you to run Python interactively to do math."
   ]
  },
  {
   "cell_type": "markdown",
   "metadata": {},
   "source": [
    "### Errors"
   ]
  },
  {
   "cell_type": "code",
   "execution_count": null,
   "metadata": {
    "collapsed": false
   },
   "outputs": [],
   "source": [
    "print(\"3 cubed =\", 3**3)   #* is mult, ** is squared, what is ***? Python syntax rules"
   ]
  },
  {
   "cell_type": "markdown",
   "metadata": {},
   "source": [
    "### Booleans - True and False - Math slide #2"
   ]
  },
  {
   "cell_type": "code",
   "execution_count": null,
   "metadata": {
    "collapsed": false
   },
   "outputs": [],
   "source": [
    "print(\"Is 6 afraid of 7?\", 6 < 7)  #what will this do?\n",
    "#\"=\" & \"==\"\n",
    "#print(1 = 1) #stackoverflow top response\n",
    "print(1 == 1)"
   ]
  },
  {
   "cell_type": "markdown",
   "metadata": {},
   "source": [
    "### if statement - conditional slide"
   ]
  },
  {
   "cell_type": "code",
   "execution_count": null,
   "metadata": {
    "collapsed": false
   },
   "outputs": [],
   "source": [
    "if (6 < 7):\n",
    "    print(\"6 is afraid of 7\")"
   ]
  },
  {
   "cell_type": "markdown",
   "metadata": {},
   "source": [
    "### Variables"
   ]
  },
  {
   "cell_type": "code",
   "execution_count": null,
   "metadata": {
    "collapsed": false
   },
   "outputs": [],
   "source": [
    "# Let's move beyond just the print function.\n",
    "\n",
    "# We can store values in \"variables\".  What's variable in Chicago?  The WEATHER!\n",
    "\n",
    "temperature = 25\n",
    "\n",
    "# Variable names are very important. Longer, more descriptive names are better!\n",
    "# You will thank yourself later for using nice, descriptive variable names.\n",
    "\n",
    "# Variable names can contain upper and lower case letters, numbers, and\n",
    "# underscores, although they cannot begin with a number.  There are also reserved\n",
    "# words, like \"if\", \"else\", \"float\", etc. that can't be used.\n",
    "\n",
    "# The convention is to use only lower case letters, numbers, and underscores in\n",
    "# variable names.\n",
    "\n",
    "daytime_temp = 75\n",
    "nighttime_temp = 56\n",
    "#24_hr_temp = daytime_temp + night_temp / 2   #whoops\n",
    "ave_temp = daytime_temp + nighttime_temp / 2\n",
    "print(\"The average temperature over the 24 period was\", ave_temp)\n",
    "\n",
    "# mathematical operators have an order of precedance - multiplication and division happen\n",
    "# first, then addition and subtraction\n",
    "# best way to solve this: parenthesis\n",
    "\n",
    "ave_temp = (daytime_temp + nighttime_temp) / 2\n",
    "print(\"The correct average temperature over the 24 period was\", ave_temp)\n"
   ]
  },
  {
   "cell_type": "markdown",
   "metadata": {},
   "source": [
    "### Types: int and float - \"types\" slide"
   ]
  },
  {
   "cell_type": "code",
   "execution_count": null,
   "metadata": {
    "collapsed": false
   },
   "outputs": [],
   "source": [
    "#Variables in Python are dynamically typed.  \n",
    "#Python figures out what types the variables are for you.\n",
    "# to print it out, use type()  (what is a function?  \"print\" and \"type\" are both functions)\n",
    "\n",
    "print(daytime_temp, type(daytime_temp))\n",
    "print(ave_temp, type(ave_temp))\n",
    "\n",
    "float_number = 6.7\n",
    "print(float_number, int(float_number), round(float_number))  #int will \"floor\" instead of round\n",
    "\n",
    "#why not always use floats?  Memory\n",
    "\n",
    "#what about precision? <------"
   ]
  },
  {
   "cell_type": "code",
   "execution_count": null,
   "metadata": {
    "collapsed": false
   },
   "outputs": [],
   "source": [
    ".1 + .2"
   ]
  },
  {
   "cell_type": "code",
   "execution_count": null,
   "metadata": {
    "collapsed": false
   },
   "outputs": [],
   "source": [
    ".1 + .3"
   ]
  },
  {
   "cell_type": "markdown",
   "metadata": {},
   "source": [
    "### Floating point: slides 1 & 2"
   ]
  },
  {
   "cell_type": "code",
   "execution_count": null,
   "metadata": {
    "collapsed": false
   },
   "outputs": [],
   "source": [
    "stringy = \"this\" + \"that\"\n",
    "print(stringy)"
   ]
  },
  {
   "cell_type": "code",
   "execution_count": null,
   "metadata": {
    "collapsed": true
   },
   "outputs": [],
   "source": [
    "thing = \"this\" + 3\n",
    "print(thing)"
   ]
  },
  {
   "cell_type": "markdown",
   "metadata": {},
   "source": [
    "### Syntax - in Python 3, you must use 4 spaces for indentation."
   ]
  },
  {
   "cell_type": "markdown",
   "metadata": {},
   "source": [
    "### if/else statements"
   ]
  },
  {
   "cell_type": "code",
   "execution_count": null,
   "metadata": {
    "collapsed": false
   },
   "outputs": [],
   "source": [
    "#If statements & syntax - also \":\"\n",
    "\n",
    "if temperature > 32:\n",
    "    print(\"At least it's not freezing, it's\", temperature)\n",
    "else:\n",
    "    print(\"it's freezing, it's only\", temperature)"
   ]
  },
  {
   "cell_type": "code",
   "execution_count": null,
   "metadata": {
    "collapsed": true
   },
   "outputs": [],
   "source": [
    "#add elif\n",
    "\n",
    "if temperature > 32:\n",
    "    print(\"At least it's not freezing, it's\", temperature)\n",
    "elif temperature > 100:\n",
    "    print(\"OMG it's HOT!!!\")\n",
    "else:\n",
    "    print(\"it's freezing, it's only\", temperature)"
   ]
  },
  {
   "cell_type": "markdown",
   "metadata": {},
   "source": [
    "### Strings"
   ]
  },
  {
   "cell_type": "code",
   "execution_count": null,
   "metadata": {
    "collapsed": false
   },
   "outputs": [],
   "source": [
    "# \"Strings\" are another data type in Python (along with numbers and boolean\n",
    "# values which we've already seen)\n",
    "\n",
    "# Strings are text data.\n",
    "\n",
    "print(\"Strings can be in double quotes.\")\n",
    "print('Strings can also be in single quotes if you want.')\n",
    "print(\"\"\"If you enclose a string in a triple single quotes or triple double quotes,\n",
    "it can span multiple lines.\n",
    "You probably won't use this feature very often but it's a good thing to be aware of.\n",
    "Sometimes you just want to put a really long string in your program without having to type\n",
    "quotes at the beginning and end of every line.\n",
    "\"\"\")\n",
    "\n",
    "print(\"If you want a line break in your string, use the \\n sequence.\")\n",
    "\n",
    "# Variables can hold strings.\n",
    "\n",
    "my_string = \"This is a string.\"\n",
    "\n",
    "print(my_string)\n",
    "\n",
    "# The len() function will tell us how long something is, and can be used on\n",
    "# strings.\n",
    "\n",
    "print(\"my_string is\", len(my_string), \"characters long.\")\n",
    "\n",
    "# The + operator works on strings by \"adding\" them together.\n",
    "\n",
    "a_longer_string = my_string + \" And so is this.\"\n",
    "\n",
    "print(a_longer_string)\n",
    "\n",
    "# You can access a character in the string (the first item in a list is at\n",
    "# index 0.\n",
    "\n",
    "print(a_longer_string[0])\n",
    "\n",
    "# You can also access a range in the string. Let's extract \"This\" from the string\n",
    "# Notice that the range end with index 4 not 3.\n",
    "\n",
    "print(a_longer_string[0:4])\n",
    "\n"
   ]
  },
  {
   "cell_type": "markdown",
   "metadata": {},
   "source": [
    "### Objects & Methods"
   ]
  },
  {
   "cell_type": "code",
   "execution_count": null,
   "metadata": {
    "collapsed": false
   },
   "outputs": [],
   "source": [
    "# When a variable contains a string, it is said to be a \"string object\" and has\n",
    "# some nice features. For example, we can get an uppercase version of our\n",
    "# string:\n",
    "\n",
    "print(my_string.upper())  \n",
    "\n",
    "# A method is a function that “belongs to” an object.\n",
    "\n",
    "# We can do a find/replace as well:\n",
    "print(my_string)\n",
    "print(my_string.replace(\"string\", \"really cool string object with lots of neat features\"))"
   ]
  },
  {
   "cell_type": "markdown",
   "metadata": {},
   "source": [
    "### Lists"
   ]
  },
  {
   "cell_type": "code",
   "execution_count": null,
   "metadata": {
    "collapsed": false
   },
   "outputs": [],
   "source": [
    "# While a string is a sequence of characters, a list is a sequence that can hold\n",
    "# any kind of data.\n",
    "\n",
    "# You can make a list using the list() function and then appending to it.\n",
    "\n",
    "my_list = list()\n",
    "my_list.append(1)\n",
    "my_list.append(2)\n",
    "my_list.append(3)\n",
    "my_list.append(4)\n",
    "\n",
    "print(my_list)\n",
    "\n",
    "# There is a also a simpler, \"literal\" syntax for creating lists:\n",
    "\n",
    "my_list_also = [1, 2, 3]\n",
    "print(my_list_also)\n",
    "\n",
    "# We can use the \"in\" operator to test if a list contains a particular value:\n",
    "\n",
    "print(1 in my_list) # Will print \"True\" if 1 is in my_list, \"False\" otherwise.\n",
    "\n",
    "# We can ask for the smallest or largest item in a list with the min() and max()\n",
    "# functions:\n",
    "print(\"Largest item in my_list is\", max(my_list))\n",
    "\n",
    "# We can look up individual items in a list (the first item in a list is at\n",
    "# index 0):\n",
    "print(\"The first item in my_list is\", my_list[0])\n",
    "print(\"The second item in my_list is\", my_list[1])\n",
    "\n",
    "# Use a negative index to start looking from the end (the last item is at index\n",
    "# -1):\n",
    "print(\"The last item in my_list is\", my_list[-1])\n",
    "print(\"The next-to-last item in my_list is\", my_list[-2])\n",
    "\n",
    "# Lists and other sequence types have lots of other features, as you can\n",
    "# imagine: sorting, reversing, extending, inserting, etc. You will use lists\n",
    "# very, very often when programming in Python."
   ]
  },
  {
   "cell_type": "markdown",
   "metadata": {},
   "source": [
    "### Tuples"
   ]
  },
  {
   "cell_type": "code",
   "execution_count": null,
   "metadata": {
    "collapsed": false
   },
   "outputs": [],
   "source": [
    "#tuples are immutible, meaning they can't be changed, created or removed\n",
    "my_tuple = (\"Jan\", \"Feb\", \"Mar\")\n",
    "print(\"my_tuple[0]:\", my_tuple[0])\n",
    "#my_tuple.append(4)"
   ]
  },
  {
   "cell_type": "markdown",
   "metadata": {},
   "source": [
    "# Exercises"
   ]
  },
  {
   "cell_type": "markdown",
   "metadata": {},
   "source": [
    "Part 1\n",
    "You write software for Porta-Party, a company that coordinates car pools for ride sharing.  You have been asked to calculate how many unassigned seats there are in the car pool, so the Porta-Party app knows how many people can still sign up for rides.\n",
    "\n",
    "There are 14 cars in the car pool.\n",
    "Each car has 4 seats.\n",
    "One seat in each car is given to a driver, and is not available for ride-sharing.\n",
    "28 users have signed-up for rides in the Porta-Party car pool.\n",
    "\n",
    "Calculate the available_seats for ride-sharing customers in the Porta-Party using variables you've assigned, such as \"available_cars\", \"seats_per_car\", \"drivers_per_car\", etc.\n",
    "\n",
    "How many users can ride in the car pool?  With 28 users signed up, how many more users can sign-up for a ride?\n",
    "\n",
    "Print the results.  Include an if/then statement to print out either \"Yes, you can sign up for the car pool!\" or \"No room in the porta-party!\" depending on how many users have signed-up for a ride.  \n",
    "\n",
    "Change the number of users signed up so you can see each possibility printed.\n",
    "\n"
   ]
  },
  {
   "cell_type": "code",
   "execution_count": null,
   "metadata": {
    "collapsed": false
   },
   "outputs": [],
   "source": [
    "#answer for part 1\n",
    "available_cars = 14\n",
    "seats_per_car = 4\n",
    "drivers_per_car = 1\n",
    "signed_up_users = 28\n",
    "\n",
    "total_passengers = available_cars * (seats_per_car - drivers_per_car)\n",
    "seats_avail = total_passengers - signed_up_users\n",
    "if seats_avail > 0:\n",
    "    print (\"Yes, you can sign up for the car pool!\")\n",
    "else:\n",
    "    print (\"No room in the porta-party!\")"
   ]
  },
  {
   "cell_type": "markdown",
   "metadata": {},
   "source": [
    "Part 2\n",
    "As an employee of Porta-Party, you are required to drive one of the car-pool cars.  Three users have signed up to be in your car-pool car.  \n",
    "\n",
    "Create a list with their three names (pick any three names, like Janna).  Using the list to access the names, print out a welcome message to each person, capitolizing their name (\"Welcome to the car pool, JANNA\")\n",
    "\n",
    "Use the len() function on the list to find out how many items are in the list.\n",
    "Now use the len() function on each of the names on the list to figure out how many letters each name contains.  \n",
    "\n",
    "Using len(), calculate the average name length of the members of your car pool."
   ]
  },
  {
   "cell_type": "code",
   "execution_count": null,
   "metadata": {
    "collapsed": false
   },
   "outputs": [],
   "source": [
    "# Possible answer for Part 2\n",
    "rider_list = [\"Janna\", \"Alper\", \"Melanie\"]\n",
    "print(\"Welcome to the car pool,\", rider_list[0].upper())\n",
    "print(\"Welcome to the car pool,\", rider_list[1].upper())\n",
    "print(\"Welcome to the car pool,\", rider_list[2].upper())\n",
    "name_len_ave = (len(rider_list[0]) + len(rider_list[1]) + len(rider_list[2]))/len(rider_list)\n",
    "print(\"You may be interested to know the average name length in this car pool is\", name_len_ave)"
   ]
  },
  {
   "cell_type": "code",
   "execution_count": null,
   "metadata": {
    "collapsed": true
   },
   "outputs": [],
   "source": []
  }
 ],
 "metadata": {
  "kernelspec": {
   "display_name": "Python 3",
   "language": "python",
   "name": "python3"
  },
  "language_info": {
   "codemirror_mode": {
    "name": "ipython",
    "version": 3
   },
   "file_extension": ".py",
   "mimetype": "text/x-python",
   "name": "python",
   "nbconvert_exporter": "python",
   "pygments_lexer": "ipython3",
   "version": "3.6.1"
  }
 },
 "nbformat": 4,
 "nbformat_minor": 0
}
