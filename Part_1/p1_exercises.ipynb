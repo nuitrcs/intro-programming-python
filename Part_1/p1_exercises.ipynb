{
 "cells": [
  {
   "cell_type": "markdown",
   "metadata": {},
   "source": [
    "# Practicing Python Basics\n",
    "-----"
   ]
  },
  {
   "cell_type": "markdown",
   "metadata": {},
   "source": [
    "## Math"
   ]
  },
  {
   "cell_type": "markdown",
   "metadata": {},
   "source": [
    "### Exercise: Integers and Floats\n",
    "\n",
    "When is there a difference between using an integer value (no decimal) and the decimal equivalent of a number?  For example 3 and 3.0.  Play around with some common math operations to test it out."
   ]
  },
  {
   "cell_type": "code",
   "execution_count": null,
   "metadata": {
    "collapsed": false
   },
   "outputs": [],
   "source": []
  },
  {
   "cell_type": "code",
   "execution_count": null,
   "metadata": {
    "collapsed": false
   },
   "outputs": [],
   "source": []
  },
  {
   "cell_type": "code",
   "execution_count": null,
   "metadata": {
    "collapsed": false
   },
   "outputs": [],
   "source": []
  },
  {
   "cell_type": "code",
   "execution_count": null,
   "metadata": {
    "collapsed": false
   },
   "outputs": [],
   "source": []
  },
  {
   "cell_type": "code",
   "execution_count": null,
   "metadata": {
    "collapsed": false
   },
   "outputs": [],
   "source": []
  },
  {
   "cell_type": "code",
   "execution_count": null,
   "metadata": {
    "collapsed": false
   },
   "outputs": [],
   "source": []
  },
  {
   "cell_type": "code",
   "execution_count": null,
   "metadata": {
    "collapsed": false
   },
   "outputs": [],
   "source": []
  },
  {
   "cell_type": "code",
   "execution_count": null,
   "metadata": {
    "collapsed": false
   },
   "outputs": [],
   "source": []
  },
  {
   "cell_type": "markdown",
   "metadata": {},
   "source": [
    "### Exercise: Learning about numerical weirdness\n",
    "\n",
    "Add 0.1+0.2.  What's going on?\n",
    "\n",
    "See http://introtopython.org/var_string_num.html#Floating-Point-numbers for more information."
   ]
  },
  {
   "cell_type": "code",
   "execution_count": null,
   "metadata": {
    "collapsed": false
   },
   "outputs": [],
   "source": [
    "0.1+0.2 "
   ]
  },
  {
   "cell_type": "markdown",
   "metadata": {},
   "source": [
    "## Variables"
   ]
  },
  {
   "cell_type": "markdown",
   "metadata": {},
   "source": [
    "### Exercise: Variable relationships\n",
    "\n",
    "If you run the code below, what will the output be?  Figure it out before executing the cell."
   ]
  },
  {
   "cell_type": "code",
   "execution_count": null,
   "metadata": {
    "collapsed": false
   },
   "outputs": [],
   "source": [
    "a=1\n",
    "b=a+2\n",
    "a=2\n",
    "print(b)"
   ]
  },
  {
   "cell_type": "markdown",
   "metadata": {},
   "source": [
    "### Exercise: Assigning multiple variables at once\n",
    "\n",
    "We can assign values to multiple variables at once.  What will the output of the code below be?  Figure it out before executing the cell."
   ]
  },
  {
   "cell_type": "code",
   "execution_count": null,
   "metadata": {
    "collapsed": false
   },
   "outputs": [],
   "source": [
    "first, second = 'Grace', 'Hopper'\n",
    "third, fourth = second, first\n",
    "print(third, fourth)"
   ]
  },
  {
   "cell_type": "markdown",
   "metadata": {},
   "source": [
    "If you don't know who Grace Hopper is, [take a look](https://en.wikipedia.org/wiki/Grace_Hopper)."
   ]
  },
  {
   "cell_type": "markdown",
   "metadata": {},
   "source": [
    "### Exercise: Swapping values\n",
    "\n",
    "Create a variable named dog with the value \"Kitty\".  Create a variable named cat with the value \"Spot\".  Then swap the values of the two variables."
   ]
  },
  {
   "cell_type": "code",
   "execution_count": null,
   "metadata": {
    "collapsed": false
   },
   "outputs": [],
   "source": []
  },
  {
   "cell_type": "markdown",
   "metadata": {},
   "source": [
    "## Basic String Operations"
   ]
  },
  {
   "cell_type": "markdown",
   "metadata": {},
   "source": [
    "### Exercise: String concatenation\n",
    "\n",
    "Store your first name in a variable.  Store your last name in a different variable.  Combine (concatenate) them to make a single string."
   ]
  },
  {
   "cell_type": "code",
   "execution_count": null,
   "metadata": {
    "collapsed": false
   },
   "outputs": [],
   "source": []
  },
  {
   "cell_type": "markdown",
   "metadata": {},
   "source": [
    "### Exercise: String slices\n",
    "\n",
    "You can index and slice strings like lists.  Print the first and last letters of your first name variable from above."
   ]
  },
  {
   "cell_type": "code",
   "execution_count": null,
   "metadata": {
    "collapsed": false
   },
   "outputs": [],
   "source": []
  },
  {
   "cell_type": "markdown",
   "metadata": {},
   "source": [
    "## Lists"
   ]
  },
  {
   "cell_type": "markdown",
   "metadata": {},
   "source": [
    "### Exercise: Make a list\n",
    "\n",
    "Make a list called words that has 10 words of your choice in it."
   ]
  },
  {
   "cell_type": "code",
   "execution_count": null,
   "metadata": {
    "collapsed": true
   },
   "outputs": [],
   "source": []
  },
  {
   "cell_type": "markdown",
   "metadata": {},
   "source": [
    "### Exercise: Select list elements\n",
    "\n",
    "Print the first and last elements of the list.  Then the first two elements as a subset of the list."
   ]
  },
  {
   "cell_type": "code",
   "execution_count": null,
   "metadata": {
    "collapsed": false
   },
   "outputs": [],
   "source": []
  },
  {
   "cell_type": "markdown",
   "metadata": {},
   "source": [
    "### Exercise: Append to your list\n",
    "\n",
    "Add two words to the beginning of your list.  Print it."
   ]
  },
  {
   "cell_type": "code",
   "execution_count": null,
   "metadata": {
    "collapsed": false
   },
   "outputs": [],
   "source": []
  },
  {
   "cell_type": "markdown",
   "metadata": {},
   "source": [
    "### Exercise: Now remove the words you just added to your list"
   ]
  },
  {
   "cell_type": "code",
   "execution_count": null,
   "metadata": {
    "collapsed": true
   },
   "outputs": [],
   "source": []
  },
  {
   "cell_type": "markdown",
   "metadata": {},
   "source": [
    "### Challenging Exercise: Slicing with Steps\n",
    "\n",
    "Print every other word in your `words` list starting with the second one."
   ]
  },
  {
   "cell_type": "code",
   "execution_count": null,
   "metadata": {
    "collapsed": false
   },
   "outputs": [],
   "source": []
  },
  {
   "cell_type": "markdown",
   "metadata": {},
   "source": [
    "### Challenging Exercise: Reverse your list\n",
    "\n",
    "Print your list in reverse order without changing the order of the list permanently."
   ]
  },
  {
   "cell_type": "code",
   "execution_count": null,
   "metadata": {
    "collapsed": false
   },
   "outputs": [],
   "source": []
  },
  {
   "cell_type": "markdown",
   "metadata": {},
   "source": [
    "### Exercise: Nested lists\n",
    "\n",
    "You can have nested lists.  Create a list that has two other lists as its elements.  Save it in a variable called `nested_list`."
   ]
  },
  {
   "cell_type": "code",
   "execution_count": null,
   "metadata": {
    "collapsed": false
   },
   "outputs": [],
   "source": []
  },
  {
   "cell_type": "markdown",
   "metadata": {},
   "source": [
    "### Exercise: Indexing Nested Lists\n",
    "\n",
    "Print the first list from `nested_list`.  Then print the second element of the first list."
   ]
  },
  {
   "cell_type": "code",
   "execution_count": null,
   "metadata": {
    "collapsed": false
   },
   "outputs": [],
   "source": []
  },
  {
   "cell_type": "markdown",
   "metadata": {},
   "source": [
    "### Exercise: Two-Part Word Problem!\n",
    "\n",
    "#### Part 1\n",
    "\n",
    "You write software for Porta-Party, a company that coordinates car pools for ride sharing.  You have been asked to calculate how many unassigned seats there are in the car pool, so the Porta-Party app knows how many people can still sign up for rides.\n",
    " \n",
    "- There are 14 cars in the car pool.\n",
    "- Each car has 4 seats.\n",
    "- One seat in each car is given to a driver, and is not available for ride-sharing.\n",
    "- 28 users have signed-up for rides in the Porta-Party car pool.\n",
    " \n",
    "Calculate the available_seats for ride-sharing customers in the Porta-Party using variables you've assigned, such as `available_cars`, `seats_per_car`, `drivers_per_car`, etc.\n",
    " \n",
    "How many users can ride in the car pool?  With 28 users signed up, how many more users can sign-up for a ride?\n",
    " \n",
    "Print the results.  Include an if/then statement to print out either \"Yes, you can sign up for the car pool!\" or \"No room in the porta-party!\" depending on how many users have signed-up for a ride. (If you don't remember the quick intro to if/else statements, come back to this exercise after Part 2 of the workshop.)\n",
    " \n",
    "Change the number of users signed up so you can see each possibility printed."
   ]
  },
  {
   "cell_type": "code",
   "execution_count": null,
   "metadata": {
    "collapsed": false
   },
   "outputs": [],
   "source": []
  },
  {
   "cell_type": "markdown",
   "metadata": {},
   "source": [
    "#### Part 2\n",
    "\n",
    "As an employee of Porta-Party, you are required to drive one of the car-pool cars.  Three users have signed up to be in your car-pool car. \n",
    " \n",
    "Create a list with their three names (pick any three names, like Janna).  Using the list to access the names, print out a welcome message to each person, capitalizing their name (\"Welcome to the car pool, JANNA\")\n",
    " \n",
    "Use the `len()` function on the list to find out how many items are in the list.\n",
    "Now use the `len()` function on each of the names on the list to figure out how many letters each name contains. \n",
    " \n",
    "Using `len()`, calculate the average name length of the members of your car pool."
   ]
  },
  {
   "cell_type": "code",
   "execution_count": null,
   "metadata": {
    "collapsed": false
   },
   "outputs": [],
   "source": []
  },
  {
   "cell_type": "markdown",
   "metadata": {},
   "source": [
    "# Syntax Errors\n",
    "----\n",
    "Get some practice fixing common syntax errors"
   ]
  },
  {
   "cell_type": "markdown",
   "metadata": {},
   "source": [
    "### Exercise: Fix the Errors\n",
    "\n",
    "Fix the errors with the code below.  Keep executing the cell until you're error free.  "
   ]
  },
  {
   "cell_type": "code",
   "execution_count": null,
   "metadata": {
    "collapsed": false
   },
   "outputs": [],
   "source": [
    "2010data = [3,5,7,9,11]\n",
    "print(\"The first 2010 data value is \"+2010data[0])\n",
    "\n",
    "mycolors = [\"red\",\"green\",\"blue\",[\"purple\",\"pink\",\"teal\"]]\n",
    "# make the sentence below make sense with values from mycolors above\n",
    " print(mycolors[1]+\" and \"mycolors[3]+\" mix to make \"+mycolors[4]) \n",
    "\n",
    "my_list=(\"apples\",\"bananas\",\"pears)\n",
    "print(mylist)\n",
    "my_list[0] = \"avocado\"\n",
    "print(my_list)"
   ]
  },
  {
   "cell_type": "markdown",
   "metadata": {},
   "source": [
    "# Fun with Jupyter Notebooks\n",
    "\n",
    "-----"
   ]
  },
  {
   "cell_type": "markdown",
   "metadata": {},
   "source": [
    "Use [Markdown](https://en.wikipedia.org/wiki/Markdown) to format your notebook cells.  See this [Markdown Cheat Sheet](https://github.com/adam-p/markdown-here/wiki/Markdown-Cheatsheet) for common commands.  Or Daring Fireball's [Markdown tutorial/reference](https://daringfireball.net/projects/markdown/syntax)."
   ]
  },
  {
   "cell_type": "markdown",
   "metadata": {},
   "source": [
    "### Exercise: Insert a new cell below this one with raw formatting for plain text"
   ]
  },
  {
   "cell_type": "markdown",
   "metadata": {},
   "source": [
    "### Exercise: Make a level 3 header\n",
    "\n",
    "Make a markdown cell that is a level 3 header"
   ]
  },
  {
   "cell_type": "markdown",
   "metadata": {},
   "source": [
    "### Exercise: Check out the Kernel menu\n",
    "\n",
    "The Kernel menu above is how you control Python within a notebook.  If you get to a bad place in one of your notebooks and want to wipe everything clean, restarting your kernel is the way to do that.  You also have options to restart and clear output cells and restart and re-run everything.  \n",
    "\n",
    "Try restarting the kernel and rerun all cells in your notebook."
   ]
  },
  {
   "cell_type": "markdown",
   "metadata": {},
   "source": [
    "### Exercise: Markdown practice\n",
    "\n",
    "Make a markdown cell with some bold text.  Make a link to an external website.  You may need to reference the Markdown Cheat Sheet linked above.  If you're feeling adventurous, figure out how to make some text red (hint: google the answer; you'll need to use html).  "
   ]
  },
  {
   "cell_type": "markdown",
   "metadata": {},
   "source": [
    "### Exercise: Notebook Magic\n",
    "\n",
    "There are so-called magic commands you can use in notebooks.  They start with a % and enable special features.  Look up the `%who` command, see what it does, and try it out."
   ]
  },
  {
   "cell_type": "code",
   "execution_count": null,
   "metadata": {
    "collapsed": false
   },
   "outputs": [],
   "source": []
  },
  {
   "cell_type": "markdown",
   "metadata": {},
   "source": [
    "## Want to learn more about Jupyter notebooks?\n",
    "\n",
    "There are several links on the [resources page](https://github.com/nuitrcs/pythonworkshops/blob/master/resources.md) of the GitHub repository, but you may want to start with the [Jupyter Notebook Users Manual](https://athena.brynmawr.edu/jupyter/hub/dblank/public/Jupyter%20Notebook%20Users%20Manual.ipynb) from Bryn Mawr."
   ]
  }
 ],
 "metadata": {
  "kernelspec": {
   "display_name": "Python 3",
   "language": "python",
   "name": "python3"
  },
  "language_info": {
   "codemirror_mode": {
    "name": "ipython",
    "version": 3
   },
   "file_extension": ".py",
   "mimetype": "text/x-python",
   "name": "python",
   "nbconvert_exporter": "python",
   "pygments_lexer": "ipython3",
   "version": "3.6.1"
  }
 },
 "nbformat": 4,
 "nbformat_minor": 2
}
