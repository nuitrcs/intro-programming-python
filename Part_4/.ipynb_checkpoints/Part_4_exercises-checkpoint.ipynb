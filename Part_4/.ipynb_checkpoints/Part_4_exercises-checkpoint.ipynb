{
 "cells": [
  {
   "cell_type": "markdown",
   "metadata": {},
   "source": [
    "# List Comprehensions and Lambda Functions\n",
    "-----"
   ]
  },
  {
   "cell_type": "markdown",
   "metadata": {},
   "source": [
    "## Exercise: List Comprehensions\n",
    "\n",
    "Below, a small routine is given for calculating prime numbers between 2 and 100. Rewrite this routine with list comprehensions and print out the lists. (Hint: Use two comprehensions, one for \"noprimes\" and one for \"primes\" list)"
   ]
  },
  {
   "cell_type": "code",
   "execution_count": null,
   "metadata": {
    "collapsed": true
   },
   "outputs": [],
   "source": [
    "noprimes=[]\n",
    "primes=[]\n",
    "for i in range(2, 8):\n",
    "    for j in range(i*2, 101, i):\n",
    "        noprimes.append(j)\n",
    "\n",
    "for k in range(2,101): \n",
    "    if (k not in noprimes):\n",
    "        primes.append(k)\n",
    "print(primes)\n",
    "print(noprimes)"
   ]
  },
  {
   "cell_type": "code",
   "execution_count": null,
   "metadata": {
    "collapsed": true
   },
   "outputs": [],
   "source": []
  },
  {
   "cell_type": "markdown",
   "metadata": {},
   "source": [
    "## Exercise: List Comprehensions 2\n",
    "\n",
    "Here is a list of temperatures in Celsius scale: `[-32.2,45.3,0.2,-40.0, 1.0, 50.8]`\n",
    "\n",
    "- First, using a list comprehension, convert the list to Fahrenheit scale \n",
    "- Second, do the same using a lambda function "
   ]
  },
  {
   "cell_type": "code",
   "execution_count": null,
   "metadata": {
    "collapsed": true
   },
   "outputs": [],
   "source": []
  },
  {
   "cell_type": "markdown",
   "metadata": {},
   "source": [
    "## Challenging Exercise: Nested List Comprehension\n",
    "\n",
    "Change the strings to floats in the list given below and print out the same list with floats. \n",
    "\n",
    "(Hint: use a nested list comprehension)"
   ]
  },
  {
   "cell_type": "code",
   "execution_count": null,
   "metadata": {
    "collapsed": true
   },
   "outputs": [],
   "source": [
    "my_list = [['30', '12', '5.0', '321.3','67','77'], ['11', '22', '20.6','20.89'], ['45', '0.02']]"
   ]
  },
  {
   "cell_type": "markdown",
   "metadata": {},
   "source": [
    "## Challenging Exercise: Nested List Comprehension 2\n",
    "\n",
    "Using a nested list comprehension convert first list to the second (split up all of the digits and decimal points into separate strings in the list):\n",
    "\n",
    "$1^{st} list$: <br>\n",
    "`[['30', '-5.0', '321.3','77'], ['0.89'], ['45', '0.02']]`\n",
    "\n",
    "$2^{nd} list$: <br>\n",
    "`[[['3', '0'], ['-', '5', '.', '0'], ['3', '2', '1', '.', '3'], ['7', '7']], [['0', '.', '8', '9']], [['4', '5'], ['0', '.', '0', '2']]]`"
   ]
  },
  {
   "cell_type": "code",
   "execution_count": null,
   "metadata": {
    "collapsed": true
   },
   "outputs": [],
   "source": [
    "my_list = [['30', '-5.0', '321.3','77'], ['0.89'], ['45', '0.02']]"
   ]
  },
  {
   "cell_type": "markdown",
   "metadata": {},
   "source": [
    "## Exercise: Finding Multiples\n",
    "\n",
    "Using a list comprehension, find the numbers from 1 to 10000 that are divisible by all of 3, 5, 7, 11.\n",
    "\n",
    "Then write the same comprehension using lambda function. Hint: Search how to use `filter` function in connection with `lambda` function."
   ]
  },
  {
   "cell_type": "code",
   "execution_count": null,
   "metadata": {
    "collapsed": true
   },
   "outputs": [],
   "source": []
  },
  {
   "cell_type": "code",
   "execution_count": null,
   "metadata": {
    "collapsed": true
   },
   "outputs": [],
   "source": []
  },
  {
   "cell_type": "markdown",
   "metadata": {},
   "source": [
    "## Challenging Exercise: Lambda Function\n",
    "\n",
    "Write a `lambda` function for argument \"t\" where the aritmetic expression is (-2t) if t>=4 and (2t) for everything else. Evaluate the expression in the range 0 to 6."
   ]
  },
  {
   "cell_type": "code",
   "execution_count": null,
   "metadata": {
    "collapsed": true
   },
   "outputs": [],
   "source": []
  },
  {
   "cell_type": "markdown",
   "metadata": {},
   "source": [
    "# File Operations\n",
    "----\n",
    "\n",
    "**NOTE: You may want to use PyCharm or another IDE for these exercises, especially the longer ones, to practice using an environment other than Jupyter notebooks.**\n",
    "\n",
    "----"
   ]
  },
  {
   "cell_type": "markdown",
   "metadata": {},
   "source": [
    "## Exercise: Write and Read a File\n",
    "\n",
    "In this example we will write to a file and read from the same file using list comprehension\n",
    "- Write the following string to a file: 'Batteries have changed a lot in the past century, but there is still work to do.'\n",
    "- Close the file.\n",
    "- Read the file using a list comprehension to obtain the output below. (Hint: use the `split` function)\n",
    "\n",
    "Output: <br>\n",
    "`[['Batteries', 'have', 'changed', 'a', 'lot', 'in', 'the', 'past', 'century,', 'but', 'there', 'is', 'still', 'work', 'to', 'do.']]`"
   ]
  },
  {
   "cell_type": "markdown",
   "metadata": {},
   "source": [
    "## Exercise: `writelines()`\n",
    "\n",
    "A file object has a `writelines()` method which expects a list of strings. Search the web for how to use this method.\n",
    "- Use the `writelines` file object method and a list comprehension to write the even numbers from 0 to 100 to file.\n",
    "- Each number should be on a new line\n",
    "- Note: You can write this script in two lines of code"
   ]
  },
  {
   "cell_type": "markdown",
   "metadata": {},
   "source": [
    "## Exercise: `DictReader`\n",
    "\n",
    "File objects are useful for passing into other libraries that know how to use them. The built-in csv (comma seperated values) module is a great example. In this exercise you will use `DictReader` class from csv package. Search the web on how to use `DictReader` object.\n",
    "- You will find [`fbi_crime_statistics.csv`](https://raw.githubusercontent.com/nuitrcs/pythonworkshops/master/intropython/Part_4/example_input_files/fbi_crime_statistics.csv) file in the `example_input_files` directory in the GitHub repo. Download this file and then read it into Python and pass it to a `DictReader` object.\n",
    "- Using a `for` loop read the rows with `fieldnames` \"Violent crime\" and \"Population\". At each iteration, pass the values under the given field names to integer variables \n",
    "- Using the integer variables, calculate the ratio (violent crimes/population) and print out this ratio for each year (year is a another fieldname in the input file)\n",
    "\n",
    "Hint: By default the numbers in the rows will be read as strings. Also be careful about the commas in the numbers.\n",
    "\n",
    "*Challenging modification*: figure out how to read this file directly from the web without downloading it first.  The URL to the raw file is `https://raw.githubusercontent.com/nuitrcs/pythonworkshops/master/intropython/Part_4/exercise_input_files/fbi_crime_statistics.csv`.  Hint: you may want to use the [requests package](http://docs.python-requests.org/en/master/), which you'd need to install first. `DictReader` takes as a parameter something it can iterate over and get strings of text, so you may need to split the text of the url you read on the newline character (`\"\\n\"`) or use `str.splitlines()`."
   ]
  },
  {
   "cell_type": "markdown",
   "metadata": {},
   "source": [
    "## Exercise: Word Frequencies\n",
    "\n",
    "Write a script to count and output the word frequencies in the Gettysburg Address by splitting the file on spaces.  Text is available in [`gettysburg_address.txt`](https://raw.githubusercontent.com/nuitrcs/pythonworkshops/master/intropython/Part_4/exercise_input_files/gettysburg_address.txt).  Hint: there is a [`Counter` class](https://docs.python.org/3.6/library/collections.html#collections.Counter) in the collections library in Python.\n",
    "\n",
    "*Challenging Modification*: Note that there are some ellipses (...) and other punctuation that shouldn't be counted along with the words.  Deal with these to get clean word counts.  Hint: the regular expression library is `re`."
   ]
  },
  {
   "cell_type": "markdown",
   "metadata": {},
   "source": [
    "# Writing Scripts\n",
    "----\n",
    "\n",
    "**NOTE: You probably want to write these scripts in PyCharm or another IDE.** \n",
    "\n",
    "----"
   ]
  },
  {
   "cell_type": "markdown",
   "metadata": {},
   "source": [
    "## Exercise: Read and Modify an Input\n",
    "\n",
    "Write a short script to calculate and print out the circumference and area of a circle with only diameter as input. You can use `math` module which includes constant `pi`. For circumference and area calculations develop 2 functions.\n",
    "- First develop the code to read the diameter interactively (input via keyboard) and print the results to screen. Hint: Interactive input is read as a string\n",
    "- Second, change the code to read the diameter from a file and print the results to screen as well as to an output file. Hint: `file.write()` method accepts a string"
   ]
  },
  {
   "cell_type": "markdown",
   "metadata": {},
   "source": [
    "## Exercise: Splitting Up Code\n",
    "\n",
    "First write functions to calculate the circumference and area of a circle from a supplied radius. Then, create a file to use these functions as a module and a script file that calls them: \n",
    "- First file should be a module that includes the functions.\n",
    "- Second file should be the main Python code that reads a radius value from a file and writes the results of calling both functions to both screen and an output file."
   ]
  },
  {
   "cell_type": "markdown",
   "metadata": {},
   "source": [
    "## Exercise: More Processing of Data\n",
    "\n",
    "Develop a short python script that calculates the shell area between two circles (area of the larger circle minus the area of the smaller circle).  \n",
    "- The code will read a space-separated input file where each line contains two circle diameter values. The input file includes multiple lines.\n",
    "- The code will have one main script and a module file. The main script will do the reading, writing, and calling the module functions. The module file will contain the function to calculate the shell area.\n",
    "- The code will write the output to both screen and an output file.\n",
    "- Your input file should look like the data below (create it or download [`circle_diameters.txt`](https://raw.githubusercontent.com/nuitrcs/pythonworkshops/master/intropython/Part_4/exercise_input_files/circle_diameters.txt)):\n",
    "```\n",
    "6 4\n",
    "3.3 5.6\n",
    "2 9\n",
    "3.1 4.4\n",
    "6 5\n",
    "9 11.2\n",
    "```"
   ]
  },
  {
   "cell_type": "markdown",
   "metadata": {},
   "source": [
    "## Exercise: Module and Stand-alone Script\n",
    "\n",
    "Write a function that takes in a list of numbers and returns the mean and median of the numbers (hint: you can use a tuple to return multiple values).  \n",
    "\n",
    "Add the necessary components (hint: `\"__main__\"`) to make the file with the function a stand alone script that you can run.  Run it that way, either reading input from the command line or processing values from a file, and then printing the output to screen.\n",
    "\n",
    "Then also use the function you wrote by calling it from a separate file instead.  "
   ]
  }
 ],
 "metadata": {
  "anaconda-cloud": {},
  "kernelspec": {
   "display_name": "Python 3",
   "language": "python",
   "name": "python3"
  },
  "language_info": {
   "codemirror_mode": {
    "name": "ipython",
    "version": 3
   },
   "file_extension": ".py",
   "mimetype": "text/x-python",
   "name": "python",
   "nbconvert_exporter": "python",
   "pygments_lexer": "ipython3",
   "version": "3.6.1"
  }
 },
 "nbformat": 4,
 "nbformat_minor": 1
}
