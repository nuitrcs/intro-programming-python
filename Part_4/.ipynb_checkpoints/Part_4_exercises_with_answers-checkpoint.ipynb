{
 "cells": [
  {
   "cell_type": "markdown",
   "metadata": {},
   "source": [
    "# List Comprehensions and Lambda Functions\n",
    "-----"
   ]
  },
  {
   "cell_type": "markdown",
   "metadata": {},
   "source": [
    "## Exercise: List Comprehensions\n",
    "\n",
    "Below, a small routine is given for calculating prime numbers between 2 and 100. Rewrite this routine with list comprehensions and print out the lists. (Hint: Use two comprehensions, one for \"noprimes\" and one for \"primes\" list)"
   ]
  },
  {
   "cell_type": "code",
   "execution_count": 1,
   "metadata": {
    "collapsed": false
   },
   "outputs": [
    {
     "name": "stdout",
     "output_type": "stream",
     "text": [
      "[2, 3, 5, 7, 11, 13, 17, 19, 23, 29, 31, 37, 41, 43, 47, 53, 59, 61, 67, 71, 73, 79, 83, 89, 97]\n",
      "[4, 6, 8, 10, 12, 14, 16, 18, 20, 22, 24, 26, 28, 30, 32, 34, 36, 38, 40, 42, 44, 46, 48, 50, 52, 54, 56, 58, 60, 62, 64, 66, 68, 70, 72, 74, 76, 78, 80, 82, 84, 86, 88, 90, 92, 94, 96, 98, 100, 6, 9, 12, 15, 18, 21, 24, 27, 30, 33, 36, 39, 42, 45, 48, 51, 54, 57, 60, 63, 66, 69, 72, 75, 78, 81, 84, 87, 90, 93, 96, 99, 8, 12, 16, 20, 24, 28, 32, 36, 40, 44, 48, 52, 56, 60, 64, 68, 72, 76, 80, 84, 88, 92, 96, 100, 10, 15, 20, 25, 30, 35, 40, 45, 50, 55, 60, 65, 70, 75, 80, 85, 90, 95, 100, 12, 18, 24, 30, 36, 42, 48, 54, 60, 66, 72, 78, 84, 90, 96, 14, 21, 28, 35, 42, 49, 56, 63, 70, 77, 84, 91, 98]\n"
     ]
    }
   ],
   "source": [
    "noprimes=[]\n",
    "primes=[]\n",
    "for i in range(2, 8):\n",
    "    for j in range(i*2, 101, i):\n",
    "        noprimes.append(j)\n",
    "\n",
    "for k in range(2,101): \n",
    "    if (k not in noprimes):\n",
    "        primes.append(k)\n",
    "print(primes)\n",
    "print(noprimes)"
   ]
  },
  {
   "cell_type": "code",
   "execution_count": 2,
   "metadata": {
    "collapsed": false
   },
   "outputs": [
    {
     "name": "stdout",
     "output_type": "stream",
     "text": [
      "[2, 3, 5, 7, 11, 13, 17, 19, 23, 29, 31, 37, 41, 43, 47, 53, 59, 61, 67, 71, 73, 79, 83, 89, 97]\n",
      "[4, 6, 8, 10, 12, 14, 16, 18, 20, 22, 24, 26, 28, 30, 32, 34, 36, 38, 40, 42, 44, 46, 48, 50, 52, 54, 56, 58, 60, 62, 64, 66, 68, 70, 72, 74, 76, 78, 80, 82, 84, 86, 88, 90, 92, 94, 96, 98, 100, 6, 9, 12, 15, 18, 21, 24, 27, 30, 33, 36, 39, 42, 45, 48, 51, 54, 57, 60, 63, 66, 69, 72, 75, 78, 81, 84, 87, 90, 93, 96, 99, 8, 12, 16, 20, 24, 28, 32, 36, 40, 44, 48, 52, 56, 60, 64, 68, 72, 76, 80, 84, 88, 92, 96, 100, 10, 15, 20, 25, 30, 35, 40, 45, 50, 55, 60, 65, 70, 75, 80, 85, 90, 95, 100, 12, 18, 24, 30, 36, 42, 48, 54, 60, 66, 72, 78, 84, 90, 96, 14, 21, 28, 35, 42, 49, 56, 63, 70, 77, 84, 91, 98]\n"
     ]
    }
   ],
   "source": [
    "noprimes = [j for i in range(2, 8) for j in range(i*2, 101, i)]\n",
    "primes = [x for x in range(2, 101) if x not in noprimes]\n",
    "print (primes)\n",
    "print(noprimes)"
   ]
  },
  {
   "cell_type": "markdown",
   "metadata": {},
   "source": [
    "## Exercise: List Comprehensions 2\n",
    "\n",
    "Here is a list of temperatures in Celsius scale: `[-32.2,45.3,0.2,-40.0, 1.0, 50.8]`\n",
    "\n",
    "- First, using a list comprehension, convert the list to Fahrenheit scale \n",
    "- Second, do the same using a lambda function "
   ]
  },
  {
   "cell_type": "code",
   "execution_count": 3,
   "metadata": {
    "collapsed": false
   },
   "outputs": [
    {
     "name": "stdout",
     "output_type": "stream",
     "text": [
      "[-25.960000000000008, 113.53999999999999, 32.36, -40.0, 33.8, 123.44]\n"
     ]
    }
   ],
   "source": [
    "celsius=[-32.2,45.3,0.2,-40.0, 1.0, 50.8]\n",
    "fahrenheit=[ ((9.0/5.0)*t + 32) for t in celsius ]\n",
    "print(fahrenheit)"
   ]
  },
  {
   "cell_type": "code",
   "execution_count": 4,
   "metadata": {
    "collapsed": false
   },
   "outputs": [
    {
     "name": "stdout",
     "output_type": "stream",
     "text": [
      "[-25.960000000000008, 113.53999999999999, 32.36, -40.0, 33.8, 123.44]\n"
     ]
    }
   ],
   "source": [
    "fahrenheit2=list(map(lambda t2:(9.0/5.0)*t2 + 32, celsius)) # uses celsius defined above\n",
    "print(fahrenheit2)"
   ]
  },
  {
   "cell_type": "markdown",
   "metadata": {},
   "source": [
    "## Challenging Exercise: Nested List Comprehension\n",
    "\n",
    "Change the strings to floats in the list given below and print out the same list with floats. \n",
    "\n",
    "(Hint: use a nested list comprehension)"
   ]
  },
  {
   "cell_type": "code",
   "execution_count": 5,
   "metadata": {
    "collapsed": true
   },
   "outputs": [],
   "source": [
    "my_list = [['30', '12', '5.0', '321.3','67','77'], ['11', '22', '20.6','20.89'], ['45', '0.02']]"
   ]
  },
  {
   "cell_type": "code",
   "execution_count": 6,
   "metadata": {
    "collapsed": false
   },
   "outputs": [
    {
     "name": "stdout",
     "output_type": "stream",
     "text": [
      "[[30.0, 12.0, 5.0, 321.3, 67.0, 77.0], [11.0, 22.0, 20.6, 20.89], [45.0, 0.02]]\n"
     ]
    }
   ],
   "source": [
    "f=[[float(x) for x in y] for y in my_list]\n",
    "print(f)"
   ]
  },
  {
   "cell_type": "markdown",
   "metadata": {},
   "source": [
    "## Exercise: Nested List Comprehension 2\n",
    "\n",
    "Using a nested list comprehension convert first list to the second (split up all of the digits and decimal points into separate strings in the list):\n",
    "\n",
    "Input: <br>\n",
    "`[['30', '-5.0', '321.3','77'], ['0.89'], ['45', '0.02']]`\n",
    "\n",
    "Output: <br>\n",
    "`[[['3', '0'], ['-', '5', '.', '0'], ['3', '2', '1', '.', '3'], ['7', '7']], [['0', '.', '8', '9']], [['4', '5'], ['0', '.', '0', '2']]]`"
   ]
  },
  {
   "cell_type": "code",
   "execution_count": 7,
   "metadata": {
    "collapsed": false
   },
   "outputs": [
    {
     "name": "stdout",
     "output_type": "stream",
     "text": [
      "[[['3', '0'], ['-', '5', '.', '0'], ['3', '2', '1', '.', '3'], ['7', '7']], [['0', '.', '8', '9']], [['4', '5'], ['0', '.', '0', '2']]]\n"
     ]
    }
   ],
   "source": [
    "my_list = [['30', '-5.0', '321.3','77'], ['0.89'], ['45', '0.02']]\n",
    "d=[[[z for z in x] for x in y] for y in my_list]\n",
    "print(d)"
   ]
  },
  {
   "cell_type": "markdown",
   "metadata": {},
   "source": [
    "## Exercise: Finding Multiples\n",
    "\n",
    "Using a list comprehension, find the numbers from 1 to 10000 that are divisible by all of 3, 5, 7, 11.\n",
    "\n",
    "Then write the same comprehension using lambda function. Hint: Search how to use `filter` function in connection with `lambda` function."
   ]
  },
  {
   "cell_type": "code",
   "execution_count": 8,
   "metadata": {
    "collapsed": false
   },
   "outputs": [
    {
     "name": "stdout",
     "output_type": "stream",
     "text": [
      "[1155, 2310, 3465, 4620, 5775, 6930, 8085, 9240]\n"
     ]
    }
   ],
   "source": [
    "numbers = [x for x in range(1,10001) if x % 3 == 0 and x % 5 == 0 and x %7 == 0 and x % 11 ==0 ]\n",
    "print(numbers)"
   ]
  },
  {
   "cell_type": "markdown",
   "metadata": {},
   "source": [
    "*Alternative, with a different syntax:*"
   ]
  },
  {
   "cell_type": "code",
   "execution_count": 9,
   "metadata": {
    "collapsed": false
   },
   "outputs": [
    {
     "name": "stdout",
     "output_type": "stream",
     "text": [
      "[1155, 2310, 3465, 4620, 5775, 6930, 8085, 9240]\n"
     ]
    }
   ],
   "source": [
    "numbers = [x for x in range(1,10001) if x % 3 == 0 if x % 5 == 0 if x %7 == 0 if x % 11 ==0 ]\n",
    "print(numbers)"
   ]
  },
  {
   "cell_type": "code",
   "execution_count": 10,
   "metadata": {
    "collapsed": false
   },
   "outputs": [
    {
     "name": "stdout",
     "output_type": "stream",
     "text": [
      "[1155, 2310, 3465, 4620, 5775, 6930, 8085, 9240]\n"
     ]
    }
   ],
   "source": [
    "numbers2 = list(filter(lambda x: (x%3==0 and x % 5 == 0 and x %7 == 0 and x % 11 ==0), range(1,10001)))\n",
    "print(numbers2)"
   ]
  },
  {
   "cell_type": "markdown",
   "metadata": {},
   "source": [
    "## Challenging Exercise: Lambda Function\n",
    "\n",
    "Write a `lambda` function for argument \"t\" where the aritmetic expression is (-2t) if t>=4 and (2t) for everything else. Evaluate the expression in the range 0 to 6."
   ]
  },
  {
   "cell_type": "code",
   "execution_count": 11,
   "metadata": {
    "collapsed": false
   },
   "outputs": [
    {
     "name": "stdout",
     "output_type": "stream",
     "text": [
      "[0, 2, 4, 6, -8, -10, -12]\n"
     ]
    }
   ],
   "source": [
    "l_function = list(map(lambda t: 2*-t if t>=4 else 2*t, range(7)))\n",
    "print(l_function)"
   ]
  },
  {
   "cell_type": "markdown",
   "metadata": {},
   "source": [
    "# File Operations\n",
    "----\n",
    "\n",
    "**NOTE: You may want to use PyCharm or another IDE for these exercises, especially the longer ones, to practice using an environment other than Jupyter notebooks.**\n",
    "\n",
    "These exercises are more complicated than previous ones and some involve multiple files.  An answer is provided, but there are other solutions that will work.\n",
    "\n",
    "----"
   ]
  },
  {
   "cell_type": "markdown",
   "metadata": {},
   "source": [
    "## Exercise: Write and Read a File\n",
    "\n",
    "In this example we will write to a file and read from the same file using list comprehension\n",
    "- Write the following string to a file: 'Batteries have changed a lot in the past century, but there is still work to do.'\n",
    "- Close the file.\n",
    "- Read the file using a list comprehension to obtain the output below. (Hint: use the `split` function)\n",
    "\n",
    "Output: <br>\n",
    "`[['Batteries', 'have', 'changed', 'a', 'lot', 'in', 'the', 'past', 'century,', 'but', 'there', 'is', 'still', 'work', 'to', 'do.']]`"
   ]
  },
  {
   "cell_type": "code",
   "execution_count": 12,
   "metadata": {
    "collapsed": false
   },
   "outputs": [
    {
     "name": "stdout",
     "output_type": "stream",
     "text": [
      "[['Batteries', 'have', 'changed', 'a', 'lot', 'in', 'the', 'past', 'century,', 'but', 'there', 'is', 'still', 'work', 'to', 'do.']]\n"
     ]
    }
   ],
   "source": [
    "my_message='Batteries have changed a lot in the past century, but there is still work to do.'\n",
    "with open('log.txt','w') as fp:\n",
    "    fp.write(my_message)\n",
    "my_list = [[word for word in text.split(\" \")] for text in open('log.txt','r')]\n",
    "print(my_list)"
   ]
  },
  {
   "cell_type": "markdown",
   "metadata": {},
   "source": [
    "## Exercise: `writelines()`\n",
    "\n",
    "A file object has a `writelines()` method which expects a list of strings. Search the web for how to use this method.\n",
    "- Use the `writelines` file object method and a list comprehension to write the even numbers from 0 to 100 to file.\n",
    "- Each number should be on a new line\n",
    "- Note: You can write this script in two lines of code"
   ]
  },
  {
   "cell_type": "code",
   "execution_count": 13,
   "metadata": {
    "collapsed": true
   },
   "outputs": [],
   "source": [
    "with open('file.txt', 'w') as textfile:\n",
    "    textfile.writelines(str(i) + \"\\n\" for i in range(0, 101, 2))"
   ]
  },
  {
   "cell_type": "markdown",
   "metadata": {},
   "source": [
    "## Exercise: `DictReader`\n",
    "\n",
    "File objects are useful for passing into other libraries that know how to use them. The built-in csv (comma seperated values) module is a great example. In this exercise you will use `DictReader` class from csv package. Search the web on how to use `DictReader` object.\n",
    "- You will find [`fbi_crime_statistics.csv`](https://raw.githubusercontent.com/nuitrcs/pythonworkshops/master/intropython/Part_4/example_input_files/fbi_crime_statistics.csv) file in the `example_input_files` directory in the GitHub repo. Download this file and then read it into Python and pass it to a `DictReader` object.\n",
    "- Using a `for` loop read the rows with `fieldnames` \"Violent crime\" and \"Population\". At each iteration, pass the values under the given field names to integer variables \n",
    "- Using the integer variables, calculate the ratio (violent crimes/population) and print out this ratio for each year (year is a another fieldname in the input file)\n",
    "\n",
    "Hint: By default the numbers in the rows will be read as strings. Also be careful about the commas in the numbers.\n",
    "\n",
    "*Challenging modification*: figure out how to read this file directly from the web without downloading it first.  The URL to the raw file is `https://raw.githubusercontent.com/nuitrcs/pythonworkshops/master/intropython/Part_4/exercise_input_files/fbi_crime_statistics.csv`. Hint: you may want to use the [requests package](http://docs.python-requests.org/en/master/), which you'd need to install first. `DictReader` takes as a parameter something it can iterate over and get strings of text, so you may need to split the text of the url you read on the newline character (`\"\\n\"`) or use `str.splitlines()`."
   ]
  },
  {
   "cell_type": "markdown",
   "metadata": {},
   "source": [
    "See file [`violentcrime.py`](https://raw.githubusercontent.com/nuitrcs/pythonworkshops/master/intropython/Part_4/exercise_answer_files/violentcrime.py) (execute cell below to see file contents in a pop-up window at the bottom)"
   ]
  },
  {
   "cell_type": "code",
   "execution_count": 14,
   "metadata": {
    "collapsed": false
   },
   "outputs": [],
   "source": [
    "%pycat https://raw.githubusercontent.com/nuitrcs/pythonworkshops/master/intropython/Part_4/exercise_answer_files/violentcrime.py"
   ]
  },
  {
   "cell_type": "markdown",
   "metadata": {},
   "source": [
    "For the answer to the challenging modification, see [`violentcrime_fromurl.py`](https://raw.githubusercontent.com/nuitrcs/pythonworkshops/master/intropython/Part_4/exercise_answer_files/violentcrime_fromurl.py) "
   ]
  },
  {
   "cell_type": "code",
   "execution_count": 15,
   "metadata": {
    "collapsed": false
   },
   "outputs": [],
   "source": [
    "%pycat https://raw.githubusercontent.com/nuitrcs/pythonworkshops/master/intropython/Part_4/exercise_answer_files/violentcrime_fromurl.py"
   ]
  },
  {
   "cell_type": "markdown",
   "metadata": {},
   "source": [
    "To install the requests package, from within a notebook, you can use the `!pip install` command (put it in a cell by itself and run the cell):<br>\n",
    "`!pip install requests`\n",
    "\n",
    "Or you could use the Terminal (under menu View > Tool Windows > Terminal) from within PyCharm and type: `conda install requests` or `pip install requests`.  From a terminal outside of PyCharm, `conda install requests` should install the package for your Anaconda distribution of Python, but `pip install requests` may install for the default operating system version of Python (on a Mac this is a version of Python 2) instead if the path to your Python executable hasn't been updated.  If you have questions about installing packages, please ask a TA or instructor.\n",
    "\n",
    "Note that instead of using DictReader with a file on the internet, you could also use other csv reader packages, like `pandas` and the `read_csv` function."
   ]
  },
  {
   "cell_type": "markdown",
   "metadata": {},
   "source": [
    "## Exercise: Word Frequencies\n",
    "\n",
    "Write a script to count and output the word frequencies in the Gettysburg Address by splitting the file on spaces.  Text is available in [`gettysburg_address.txt`](https://raw.githubusercontent.com/nuitrcs/pythonworkshops/master/intropython/Part_4/exercise_input_files/gettysburg_address.txt).  Hint: there is a [`Counter` class](https://docs.python.org/3.6/library/collections.html#collections.Counter) in the collections library in Python.\n",
    "\n",
    "*Challenging Modification*: Note that there are some ellipses (...) and other punctuation that shouldn't be counted along with the words.  Deal with these to get clean word counts.  Hint: The regular expression library is `re`."
   ]
  },
  {
   "cell_type": "markdown",
   "metadata": {},
   "source": [
    "See file [`gettysburg.py`](https://raw.githubusercontent.com/nuitrcs/pythonworkshops/master/intropython/Part_4/exercise_answer_files/gettysburg.py) "
   ]
  },
  {
   "cell_type": "code",
   "execution_count": 16,
   "metadata": {
    "collapsed": true
   },
   "outputs": [],
   "source": [
    "%pycat https://raw.githubusercontent.com/nuitrcs/pythonworkshops/master/intropython/Part_4/exercise_answer_files/gettysburg.py"
   ]
  },
  {
   "cell_type": "markdown",
   "metadata": {},
   "source": [
    "Details: `Counter` takes an iterable (something that can be iterated over, like in a `for` loop).  Splitting the string you read from the file produces a list that can be iterated over.  It's easiest to create the `Counter` with this complete list rather than updating the `Counter` with each individual element.  The function let's us create the `Counter` and then print it with a call.  By default, a `Counter` object prints the entries in descending frequency order.  Instead of using a function, you could create a variable to use later (see below), but we didn't need one in this case."
   ]
  },
  {
   "cell_type": "markdown",
   "metadata": {},
   "source": [
    "Challenging modification: [`gettysburg_challenge.py`](https://raw.githubusercontent.com/nuitrcs/pythonworkshops/master/intropython/Part_4/exercise_answer_files/gettysburg_challenge.py)"
   ]
  },
  {
   "cell_type": "code",
   "execution_count": 17,
   "metadata": {
    "collapsed": true
   },
   "outputs": [],
   "source": [
    "%pycat https://raw.githubusercontent.com/nuitrcs/pythonworkshops/master/intropython/Part_4/exercise_answer_files/gettysburg_challenge.py"
   ]
  },
  {
   "cell_type": "markdown",
   "metadata": {},
   "source": [
    "# Writing Scripts\n",
    "----\n",
    "\n",
    "**NOTE: You probably want to write these scripts in PyCharm or another IDE.**\n",
    "\n",
    "As above, there are multiple answers to these exercises.  The answers here use some techniques that you may not yet be familiar with so that you can learn some new things from the answers too. \n",
    "\n",
    "----"
   ]
  },
  {
   "cell_type": "markdown",
   "metadata": {},
   "source": [
    "## Exercise: Read and Modify an Input\n",
    "\n",
    "Write a short script to calculate and print out the circumference and area of a circle with only diameter as input. You can use `math` module which includes constant `pi`. For circumference and area calculations develop 2 functions.\n",
    "- First develop the code to read the diameter interactively (input via keyboard) and print the results to screen. Hint: Interactive input is read as a string\n",
    "- Second, change the code to read the diameter from a file and print the results to screen as well as to an output file. Hint: `file.write()` method accepts a string"
   ]
  },
  {
   "cell_type": "markdown",
   "metadata": {},
   "source": [
    "See [`circles.py`](https://raw.githubusercontent.com/nuitrcs/pythonworkshops/master/intropython/Part_4/exercise_answer_files/circles.py) and [`circles2.py`](https://raw.githubusercontent.com/nuitrcs/pythonworkshops/master/intropython/Part_4/exercise_answer_files/circles2.py)"
   ]
  },
  {
   "cell_type": "code",
   "execution_count": 18,
   "metadata": {
    "collapsed": true
   },
   "outputs": [],
   "source": [
    "%pycat https://raw.githubusercontent.com/nuitrcs/pythonworkshops/master/intropython/Part_4/exercise_answer_files/circles.py"
   ]
  },
  {
   "cell_type": "code",
   "execution_count": 19,
   "metadata": {
    "collapsed": true
   },
   "outputs": [],
   "source": [
    "%pycat https://raw.githubusercontent.com/nuitrcs/pythonworkshops/master/intropython/Part_4/exercise_answer_files/circles2.py"
   ]
  },
  {
   "cell_type": "markdown",
   "metadata": {},
   "source": [
    "Note that when writing files, you need to explicitly write a newline character (`\\n`).  For more on string formatting (the `format()` function and `{}`), see https://pyformat.info/"
   ]
  },
  {
   "cell_type": "markdown",
   "metadata": {},
   "source": [
    "## Exercise: Splitting Up Code\n",
    "\n",
    "Split up the code in the example you wrote above into two files: 1) a module file with the functions and 2) script file that reads a *radius* (not diameter) value from a file and writes the results of calling both functions to both screen and an output file."
   ]
  },
  {
   "cell_type": "markdown",
   "metadata": {},
   "source": [
    "See [`circles_mod.py`](https://raw.githubusercontent.com/nuitrcs/pythonworkshops/master/intropython/Part_4/exercise_answer_files/circles_mod.py) and [`circles_script.py`](https://raw.githubusercontent.com/nuitrcs/pythonworkshops/master/intropython/Part_4/exercise_answer_files/circles_script.py)"
   ]
  },
  {
   "cell_type": "code",
   "execution_count": 20,
   "metadata": {
    "collapsed": false
   },
   "outputs": [],
   "source": [
    "%pycat https://raw.githubusercontent.com/nuitrcs/pythonworkshops/master/intropython/Part_4/exercise_answer_files/circles_mod.py"
   ]
  },
  {
   "cell_type": "code",
   "execution_count": 21,
   "metadata": {
    "collapsed": true
   },
   "outputs": [],
   "source": [
    "%pycat https://raw.githubusercontent.com/nuitrcs/pythonworkshops/master/intropython/Part_4/exercise_answer_files/circles_script.py"
   ]
  },
  {
   "cell_type": "markdown",
   "metadata": {},
   "source": [
    "## Exercise: More Processing of Data\n",
    "\n",
    "Develop a short python script that calculates the shell area between two circles (area of the larger circle minus the area of the smaller circle).  \n",
    "- The code will read a space-separated input file where each line contains two circle diameter values. The input file includes multiple lines.\n",
    "- The code will have one main script and a module file. The main script will do the reading, writing, and calling the module functions. The module file will contain the function to calculate the shell area.  Use the module you created above that has a function for the area.\n",
    "- The code will write the output to both screen and an output file.\n",
    "- Your input file should look like the data below (create it or download [`circle_diameters.txt`](https://raw.githubusercontent.com/nuitrcs/pythonworkshops/master/intropython/Part_4/exercise_input_files/circle_diameters.txt)):\n",
    "```\n",
    "6 4\n",
    "3.3 5.6\n",
    "2 9\n",
    "3.1 4.4\n",
    "6 5\n",
    "9 11.2\n",
    "```"
   ]
  },
  {
   "cell_type": "markdown",
   "metadata": {},
   "source": [
    "See [`shellarea.py`](https://raw.githubusercontent.com/nuitrcs/pythonworkshops/master/intropython/Part_4/exercise_answer_files/shellarea.py) and [`shell_script.py`](https://raw.githubusercontent.com/nuitrcs/pythonworkshops/master/intropython/Part_4/exercise_answer_files/shell_script.py)"
   ]
  },
  {
   "cell_type": "code",
   "execution_count": 22,
   "metadata": {
    "collapsed": true
   },
   "outputs": [],
   "source": [
    "%pycat https://raw.githubusercontent.com/nuitrcs/pythonworkshops/master/intropython/Part_4/exercise_answer_files/shellarea.py"
   ]
  },
  {
   "cell_type": "code",
   "execution_count": 23,
   "metadata": {
    "collapsed": true
   },
   "outputs": [],
   "source": [
    "%pycat https://raw.githubusercontent.com/nuitrcs/pythonworkshops/master/intropython/Part_4/exercise_answer_files/shell_script.py"
   ]
  },
  {
   "cell_type": "markdown",
   "metadata": {},
   "source": [
    "Alternatively, you could import the `area` function into `shell_script.py` and pass it to `shellarea` as a parameter (you'd need to modify `shellarea.py` too to take the function as a parameter.  You can pass functions as parameters to other functions too.  See [`shellarea_fxn.py`](https://raw.githubusercontent.com/nuitrcs/pythonworkshops/master/intropython/Part_4/exercise_answer_files/shellarea_fxn.py) and [`shell_script_fxn.py`](https://raw.githubusercontent.com/nuitrcs/pythonworkshops/master/intropython/Part_4/exercise_answer_files/shell_script_fxn.py)"
   ]
  },
  {
   "cell_type": "markdown",
   "metadata": {},
   "source": [
    "## Exercise: Module and Stand-alone Script\n",
    "\n",
    "Write a function that takes in a list of numbers and returns the mean and median of the numbers (hint: you can use a tuple to return multiple values).  \n",
    "\n",
    "Add the necessary components (hint: `\"__main__\"`) to make the file with the function a stand alone script that you can run.  Run it that way, either reading input from the command line or processing values from a file, and then printing the output to screen.\n",
    "\n",
    "Then also use the function you wrote by calling it from a separate file instead.  "
   ]
  },
  {
   "cell_type": "markdown",
   "metadata": {},
   "source": [
    "See [`meanmedian.py`](https://raw.githubusercontent.com/nuitrcs/pythonworkshops/master/intropython/Part_4/exercise_answer_files/meanmedian.py) and [`summarize.py`](https://raw.githubusercontent.com/nuitrcs/pythonworkshops/master/intropython/Part_4/exercise_answer_files/summarize.py).  The example solutions use some advanced concepts that you might not know (hopefully you'll learn from the solution files!), but you can complete the exercise without them.  "
   ]
  },
  {
   "cell_type": "code",
   "execution_count": 24,
   "metadata": {
    "collapsed": false
   },
   "outputs": [],
   "source": [
    "%pycat https://raw.githubusercontent.com/nuitrcs/pythonworkshops/master/intropython/Part_4/exercise_answer_files/meanmedian.py"
   ]
  },
  {
   "cell_type": "code",
   "execution_count": 25,
   "metadata": {
    "collapsed": true
   },
   "outputs": [],
   "source": [
    "%pycat https://raw.githubusercontent.com/nuitrcs/pythonworkshops/master/intropython/Part_4/exercise_answer_files/summarize.py"
   ]
  }
 ],
 "metadata": {
  "anaconda-cloud": {},
  "kernelspec": {
   "display_name": "Python 3",
   "language": "python",
   "name": "python3"
  },
  "language_info": {
   "codemirror_mode": {
    "name": "ipython",
    "version": 3
   },
   "file_extension": ".py",
   "mimetype": "text/x-python",
   "name": "python",
   "nbconvert_exporter": "python",
   "pygments_lexer": "ipython3",
   "version": "3.6.1"
  }
 },
 "nbformat": 4,
 "nbformat_minor": 1
}
