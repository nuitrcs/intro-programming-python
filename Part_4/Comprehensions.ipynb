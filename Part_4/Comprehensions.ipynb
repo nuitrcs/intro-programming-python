{
 "cells": [
  {
   "cell_type": "markdown",
   "metadata": {},
   "source": [
    "# LIST COMPREHENSIONS"
   ]
  },
  {
   "cell_type": "markdown",
   "metadata": {},
   "source": [
    "### In the previous lecture we have seen conditionals and loops. Python supports compact expressions called list comprehensions that can replicate some functions of conditionals and loops to create lists. You can always use loops and conditionals instead of comprehensions as they offer more flexibility"
   ]
  },
  {
   "cell_type": "markdown",
   "metadata": {},
   "source": [
    "### Let's do some examples to familiarize ourselves with list comprehensions"
   ]
  },
  {
   "cell_type": "code",
   "execution_count": 1,
   "metadata": {
    "collapsed": false
   },
   "outputs": [
    {
     "name": "stdout",
     "output_type": "stream",
     "text": [
      "[1, 4, 9, 16, 25, 36, 49, 64, 81, 100]\n"
     ]
    }
   ],
   "source": [
    "squares=list() # squares = []\n",
    "for i in range(1,11):\n",
    "    squares.append(i**2) # squares+=[i**2]\n",
    "print(squares)"
   ]
  },
  {
   "cell_type": "code",
   "execution_count": 2,
   "metadata": {
    "collapsed": false
   },
   "outputs": [
    {
     "name": "stdout",
     "output_type": "stream",
     "text": [
      "[1, 4, 9, 16, 25, 36, 49, 64, 81, 100]\n"
     ]
    }
   ],
   "source": [
    "squares = [j**2 for j in range(1,11)]\n",
    "print(squares)"
   ]
  },
  {
   "cell_type": "markdown",
   "metadata": {},
   "source": [
    "### Let's look at some other examples"
   ]
  },
  {
   "cell_type": "code",
   "execution_count": 3,
   "metadata": {
    "collapsed": false
   },
   "outputs": [
    {
     "ename": "ValueError",
     "evalue": "math domain error",
     "output_type": "error",
     "traceback": [
      "\u001b[0;31m---------------------------------------------------------------------------\u001b[0m",
      "\u001b[0;31mValueError\u001b[0m                                Traceback (most recent call last)",
      "\u001b[0;32m<ipython-input-3-299d065d1e28>\u001b[0m in \u001b[0;36m<module>\u001b[0;34m()\u001b[0m\n\u001b[1;32m      2\u001b[0m \u001b[1;31m#from cmath import sqrt\u001b[0m\u001b[1;33m\u001b[0m\u001b[1;33m\u001b[0m\u001b[0m\n\u001b[1;32m      3\u001b[0m \u001b[1;33m\u001b[0m\u001b[0m\n\u001b[0;32m----> 4\u001b[0;31m \u001b[0msquare_roots\u001b[0m \u001b[1;33m=\u001b[0m \u001b[1;33m[\u001b[0m\u001b[0msqrt\u001b[0m\u001b[1;33m(\u001b[0m\u001b[0mj\u001b[0m\u001b[1;33m)\u001b[0m \u001b[1;32mfor\u001b[0m \u001b[0mj\u001b[0m \u001b[1;32min\u001b[0m \u001b[1;33m[\u001b[0m\u001b[1;33m-\u001b[0m\u001b[1;36m9.0\u001b[0m\u001b[1;33m,\u001b[0m\u001b[1;33m-\u001b[0m\u001b[1;36m1.0\u001b[0m\u001b[1;33m,\u001b[0m\u001b[1;36m1.0\u001b[0m\u001b[1;33m,\u001b[0m\u001b[1;36m2.0\u001b[0m\u001b[1;33m,\u001b[0m\u001b[1;36m3.0\u001b[0m\u001b[1;33m,\u001b[0m\u001b[1;36m4.0\u001b[0m\u001b[1;33m]\u001b[0m\u001b[1;33m]\u001b[0m\u001b[1;33m\u001b[0m\u001b[0m\n\u001b[0m\u001b[1;32m      5\u001b[0m \u001b[0mprint\u001b[0m\u001b[1;33m(\u001b[0m\u001b[0msquare_roots\u001b[0m\u001b[1;33m)\u001b[0m\u001b[1;33m\u001b[0m\u001b[0m\n",
      "\u001b[0;32m<ipython-input-3-299d065d1e28>\u001b[0m in \u001b[0;36m<listcomp>\u001b[0;34m(.0)\u001b[0m\n\u001b[1;32m      2\u001b[0m \u001b[1;31m#from cmath import sqrt\u001b[0m\u001b[1;33m\u001b[0m\u001b[1;33m\u001b[0m\u001b[0m\n\u001b[1;32m      3\u001b[0m \u001b[1;33m\u001b[0m\u001b[0m\n\u001b[0;32m----> 4\u001b[0;31m \u001b[0msquare_roots\u001b[0m \u001b[1;33m=\u001b[0m \u001b[1;33m[\u001b[0m\u001b[0msqrt\u001b[0m\u001b[1;33m(\u001b[0m\u001b[0mj\u001b[0m\u001b[1;33m)\u001b[0m \u001b[1;32mfor\u001b[0m \u001b[0mj\u001b[0m \u001b[1;32min\u001b[0m \u001b[1;33m[\u001b[0m\u001b[1;33m-\u001b[0m\u001b[1;36m9.0\u001b[0m\u001b[1;33m,\u001b[0m\u001b[1;33m-\u001b[0m\u001b[1;36m1.0\u001b[0m\u001b[1;33m,\u001b[0m\u001b[1;36m1.0\u001b[0m\u001b[1;33m,\u001b[0m\u001b[1;36m2.0\u001b[0m\u001b[1;33m,\u001b[0m\u001b[1;36m3.0\u001b[0m\u001b[1;33m,\u001b[0m\u001b[1;36m4.0\u001b[0m\u001b[1;33m]\u001b[0m\u001b[1;33m]\u001b[0m\u001b[1;33m\u001b[0m\u001b[0m\n\u001b[0m\u001b[1;32m      5\u001b[0m \u001b[0mprint\u001b[0m\u001b[1;33m(\u001b[0m\u001b[0msquare_roots\u001b[0m\u001b[1;33m)\u001b[0m\u001b[1;33m\u001b[0m\u001b[0m\n",
      "\u001b[0;31mValueError\u001b[0m: math domain error"
     ]
    }
   ],
   "source": [
    "from math import sqrt\n",
    "#from cmath import sqrt\n",
    "\n",
    "square_roots = [sqrt(j) for j in [-9.0,-1.0,1.0,2.0,3.0,4.0]]\n",
    "print(square_roots)"
   ]
  },
  {
   "cell_type": "code",
   "execution_count": 20,
   "metadata": {
    "collapsed": false
   },
   "outputs": [
    {
     "name": "stdout",
     "output_type": "stream",
     "text": [
      "[3j, 1j, (1+0j), (1.4142135623730951+0j), (1.7320508075688772+0j), (2+0j)]\n"
     ]
    }
   ],
   "source": [
    "#from math import sqrt\n",
    "from cmath import sqrt\n",
    "\n",
    "square_roots = [sqrt(j) for j in [-9.0,-1.0,1.0,2.0,3.0,4.0]]\n",
    "print(square_roots)"
   ]
  },
  {
   "cell_type": "markdown",
   "metadata": {},
   "source": [
    "### Using conditionals with list comprehensions"
   ]
  },
  {
   "cell_type": "code",
   "execution_count": 4,
   "metadata": {
    "collapsed": false
   },
   "outputs": [
    {
     "name": "stdout",
     "output_type": "stream",
     "text": [
      "[1, 4, 9, 16, 25, 36, 49, 64, 81, 100]\n",
      "[4, 16, 36, 64, 100] <class 'list'>\n"
     ]
    }
   ],
   "source": [
    "squares = [j**2 for j in range(1,11)]\n",
    "print(squares)\n",
    "evensquares = [i for i in squares if i % 2 == 0]\n",
    "print(evensquares, type(evensquares))"
   ]
  },
  {
   "cell_type": "markdown",
   "metadata": {},
   "source": [
    "## Since lists can contain any type of items, you can use list comprehensions for other types as well. "
   ]
  },
  {
   "cell_type": "code",
   "execution_count": 5,
   "metadata": {
    "collapsed": false
   },
   "outputs": [
    {
     "name": "stdout",
     "output_type": "stream",
     "text": [
      "['H', 'o', 'n', 'o', 'r', 'i', 'f', 'i', 'c', 'a', 'b', 'i', 'l', 'i', 't', 'u', 'd', 'i', 'n', 'i', 't', 'a', 't', 'i', 'b', 'u', 's']\n"
     ]
    }
   ],
   "source": [
    "# Longest word in Shakespeare's works (Wikipedia)\n",
    "long_word = [letter for letter in 'Honorificabilitudinitatibus'] \n",
    "print(long_word)"
   ]
  },
  {
   "cell_type": "code",
   "execution_count": 6,
   "metadata": {
    "collapsed": false
   },
   "outputs": [
    {
     "name": "stdout",
     "output_type": "stream",
     "text": [
      "['The', 'show', 'must', 'go', 'on']\n",
      "['THE', 'SHOW', 'MUST', 'GO', 'ON']\n"
     ]
    }
   ],
   "source": [
    "lyrics = 'The show must go on'.split()\n",
    "print(lyrics)\n",
    "my_list=[word.upper() for word in lyrics]\n",
    "print(my_list)"
   ]
  },
  {
   "cell_type": "markdown",
   "metadata": {},
   "source": [
    "## We did not discuss python type `set` before. This is set: {}. A set is similar to a list, except that it is unordered and only the unique elements are saved"
   ]
  },
  {
   "cell_type": "code",
   "execution_count": 7,
   "metadata": {
    "collapsed": false
   },
   "outputs": [
    {
     "name": "stdout",
     "output_type": "stream",
     "text": [
      "{32, 1, 2, 64, 4, 128, 256, 512, 8, 16}\n",
      "<class 'set'>\n"
     ]
    }
   ],
   "source": [
    "poweroftwo = {2**i for i in range(10)}\n",
    "print(poweroftwo)                       \n",
    "print(type(poweroftwo))"
   ]
  },
  {
   "cell_type": "code",
   "execution_count": 8,
   "metadata": {
    "collapsed": false
   },
   "outputs": [
    {
     "name": "stdout",
     "output_type": "stream",
     "text": [
      "{0, 1, 2, 3, 6, 'Turtle'} <class 'set'>\n",
      "{0, 1, 2, 3, 6, 'Turtle'} <class 'set'>\n"
     ]
    }
   ],
   "source": [
    "list_to_set = set([3,'Turtle',1,6,2,1,0,2,3,6,'Turtle'])\n",
    "tuple_to_set = set((3,'Turtle',1,6,2,1,0,2,3,6,'Turtle'))\n",
    "print(list_to_set, type(list_to_set))\n",
    "print(tuple_to_set, type(tuple_to_set))"
   ]
  },
  {
   "cell_type": "markdown",
   "metadata": {},
   "source": [
    "### Nested loops can be reproduced with nested list comprehensions"
   ]
  },
  {
   "cell_type": "code",
   "execution_count": 9,
   "metadata": {
    "collapsed": false
   },
   "outputs": [
    {
     "name": "stdout",
     "output_type": "stream",
     "text": [
      "[5.0, 10.0, 15.0, 6.0, 12.0, 18.0, 7.0, 14.0, 21.0]\n"
     ]
    }
   ],
   "source": [
    "my_list = []\n",
    "\n",
    "for i in [5.0, 6.0, 7.0]:\n",
    "    for j in [1, 2, 3]:\n",
    "        my_list.append(i * j)\n",
    "\n",
    "print(my_list)"
   ]
  },
  {
   "cell_type": "code",
   "execution_count": 10,
   "metadata": {
    "collapsed": false
   },
   "outputs": [
    {
     "name": "stdout",
     "output_type": "stream",
     "text": [
      "[5.0, 10.0, 15.0, 6.0, 12.0, 18.0, 7.0, 14.0, 21.0]\n"
     ]
    }
   ],
   "source": [
    "my_nested_comprehension = [i * j for i in [5.0, 6.0, 7.0] for j in [1, 2, 3]]\n",
    "print(my_nested_comprehension)"
   ]
  },
  {
   "cell_type": "markdown",
   "metadata": {},
   "source": [
    "## You could also create list of lists using nested list comprehensions"
   ]
  },
  {
   "cell_type": "code",
   "execution_count": 11,
   "metadata": {
    "collapsed": false
   },
   "outputs": [
    {
     "name": "stdout",
     "output_type": "stream",
     "text": [
      "[('orange', 'bird'), ('orange', 'fish'), ('orange', 'cat'), ('orange', 'whale'), ('black', 'bird'), ('black', 'fish'), ('black', 'cat'), ('black', 'whale'), ('white', 'bird'), ('white', 'fish'), ('white', 'cat'), ('white', 'whale'), ('blue', 'bird'), ('blue', 'fish'), ('blue', 'cat'), ('blue', 'whale'), ('brown', 'bird'), ('brown', 'fish'), ('brown', 'cat'), ('brown', 'whale')]\n"
     ]
    }
   ],
   "source": [
    "colors = [ \"orange\", \"black\", \"white\", \"blue\", \"brown\" ]\n",
    "animals = [ \"bird\", \"fish\", \"cat\", \"whale\" ]\n",
    "animal_colors = [ (x,y) for x in colors for y in animals ]\n",
    "print (animal_colors)"
   ]
  },
  {
   "cell_type": "code",
   "execution_count": 12,
   "metadata": {
    "collapsed": false
   },
   "outputs": [
    {
     "name": "stdout",
     "output_type": "stream",
     "text": [
      "[['T', 'H', 'E'], ['S', 'H', 'O', 'W'], ['M', 'U', 'S', 'T'], ['G', 'O'], ['O', 'N']]\n"
     ]
    }
   ],
   "source": [
    "my_list=[[letter.upper() for letter in word] for word in lyrics]\n",
    "print(my_list)"
   ]
  },
  {
   "cell_type": "code",
   "execution_count": 13,
   "metadata": {
    "collapsed": false
   },
   "outputs": [
    {
     "name": "stdout",
     "output_type": "stream",
     "text": [
      "[['THE', 'the', 3], ['SHOW', 'show', 4], ['MUST', 'must', 4], ['GO', 'go', 2], ['ON', 'on', 2]]\n"
     ]
    }
   ],
   "source": [
    "my_list=[[word.upper(), word.lower(), len(word)] for word in lyrics]\n",
    "print(my_list)"
   ]
  },
  {
   "cell_type": "markdown",
   "metadata": {},
   "source": [
    "### Let's look at out first examples about squared numbers"
   ]
  },
  {
   "cell_type": "code",
   "execution_count": 14,
   "metadata": {
    "collapsed": false
   },
   "outputs": [
    {
     "name": "stdout",
     "output_type": "stream",
     "text": [
      "[1, 4, 9, 16, 25, 36, 49, 64, 81, 100]\n"
     ]
    }
   ],
   "source": [
    "squares=list() # squares = []\n",
    "for i in range(1,11):\n",
    "     squares+=[i**2]\n",
    "print(squares)"
   ]
  },
  {
   "cell_type": "code",
   "execution_count": 15,
   "metadata": {
    "collapsed": false
   },
   "outputs": [
    {
     "name": "stdout",
     "output_type": "stream",
     "text": [
      "[1, 4, 9, 16, 25, 36, 49, 64, 81, 100]\n"
     ]
    }
   ],
   "source": [
    "squares = [j**2 for j in range(1,11)]\n",
    "print(squares)"
   ]
  },
  {
   "cell_type": "code",
   "execution_count": 16,
   "metadata": {
    "collapsed": false
   },
   "outputs": [
    {
     "name": "stdout",
     "output_type": "stream",
     "text": [
      "[1, 4, 9, 16, 25, 36, 49, 64, 81, 100]\n"
     ]
    }
   ],
   "source": [
    "squares_also=list(map(lambda k: k**2, range(1,11)))\n",
    "print(squares_also)"
   ]
  },
  {
   "cell_type": "markdown",
   "metadata": {},
   "source": [
    "## The first expression for \"squares\" seems more readable, mostly becuase we are familiar with `for` loops"
   ]
  },
  {
   "cell_type": "markdown",
   "metadata": {},
   "source": [
    "# `lambda` opreator is a quick way to create nameless functions where the arguments are followed by an aritmetic expression (or function)\n",
    "### lamda arguments : expression"
   ]
  },
  {
   "cell_type": "code",
   "execution_count": 17,
   "metadata": {
    "collapsed": false
   },
   "outputs": [
    {
     "data": {
      "text/plain": [
       "9"
      ]
     },
     "execution_count": 17,
     "metadata": {},
     "output_type": "execute_result"
    }
   ],
   "source": [
    "f = lambda x, y : (x ** y)+1\n",
    "f(2,3)"
   ]
  },
  {
   "cell_type": "markdown",
   "metadata": {},
   "source": [
    "## `map()` function applies a function to the elements of a sequence. Consequently it has two arguments, first function than the sequence\n",
    "### map(function, sequence)"
   ]
  },
  {
   "cell_type": "markdown",
   "metadata": {},
   "source": [
    "## The benefit of using `lambda` with `map()` is that you can use `lambda` as the first argument of `map()` and apply its aritmetic expression to a sequence."
   ]
  },
  {
   "cell_type": "code",
   "execution_count": 18,
   "metadata": {
    "collapsed": false
   },
   "outputs": [
    {
     "name": "stdout",
     "output_type": "stream",
     "text": [
      "[5, 13, 25]\n"
     ]
    }
   ],
   "source": [
    "sumofsquares=list(map(lambda x,y: x**2+y**2, range(1,4),range(2,8)))\n",
    "print(sumofsquares)"
   ]
  },
  {
   "cell_type": "code",
   "execution_count": 19,
   "metadata": {
    "collapsed": false
   },
   "outputs": [
    {
     "ename": "SyntaxError",
     "evalue": "invalid syntax (<ipython-input-19-5a2bff24123b>, line 3)",
     "output_type": "error",
     "traceback": [
      "\u001b[0;36m  File \u001b[0;32m\"<ipython-input-19-5a2bff24123b>\"\u001b[0;36m, line \u001b[0;32m3\u001b[0m\n\u001b[0;31m    sumofsquares_also=list(map(lambda (x,y): x**2+y**2, my_sequence)) ## could have worked in python 2\u001b[0m\n\u001b[0m                                      ^\u001b[0m\n\u001b[0;31mSyntaxError\u001b[0m\u001b[0;31m:\u001b[0m invalid syntax\n"
     ]
    }
   ],
   "source": [
    "my_sequence=[(1, 2), (2, 3), (3, 4)]\n",
    "print(my_sequence)\n",
    "sumofsquares_also=list(map(lambda (x,y): x**2+y**2, my_sequence)) ## could have worked in python 2"
   ]
  },
  {
   "cell_type": "markdown",
   "metadata": {},
   "source": [
    "## There are other useful functions that can be coupled with `lambda` such as `filter()` and `reduce()`, but we are not going to discuss them in the training session. You may see them in the exercises"
   ]
  }
 ],
 "metadata": {
  "anaconda-cloud": {},
  "kernelspec": {
   "display_name": "Python [conda root]",
   "language": "python",
   "name": "conda-root-py"
  },
  "language_info": {
   "codemirror_mode": {
    "name": "ipython",
    "version": 3
   },
   "file_extension": ".py",
   "mimetype": "text/x-python",
   "name": "python",
   "nbconvert_exporter": "python",
   "pygments_lexer": "ipython3",
   "version": "3.5.2"
  }
 },
 "nbformat": 4,
 "nbformat_minor": 1
}
