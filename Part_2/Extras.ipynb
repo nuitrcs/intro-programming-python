{
 "cells": [
  {
   "cell_type": "markdown",
   "metadata": {},
   "source": [
    "### Review Lists"
   ]
  },
  {
   "cell_type": "code",
   "execution_count": 69,
   "metadata": {
    "collapsed": false
   },
   "outputs": [
    {
     "name": "stdout",
     "output_type": "stream",
     "text": [
      "['fluffy', 'whiskers']\n",
      "['fluffy', 'whiskers', 'devil cat']\n",
      "['fluffy', 'whiskers']\n",
      "['fluffy', 'whiskers']\n",
      "['fluffy', 'whiskers', 'devil cat']\n"
     ]
    }
   ],
   "source": [
    "cats = []\n",
    "cats = ['fluffy', 'whiskers']\n",
    "print(cats)\n",
    "#run cell\n",
    "#how to add to a list\n",
    "cats.append('devil cat')\n",
    "print(cats)\n",
    "#run cell\n",
    "#how to delete from a list\n",
    "del cats[2]\n",
    "print(cats)\n",
    "#run cell\n",
    "#cats[2] = \"sheba\"\n",
    "print(cats)\n",
    "#run cell\n",
    "cats.append('devil cat')\n",
    "print(cats)"
   ]
  },
  {
   "cell_type": "code",
   "execution_count": 70,
   "metadata": {
    "collapsed": false
   },
   "outputs": [
    {
     "name": "stdout",
     "output_type": "stream",
     "text": [
      "does fluffy want some catnip?\n",
      "does whiskers want some catnip?\n",
      "does devil cat want some catnip?\n"
     ]
    }
   ],
   "source": [
    "for kitty in cats:\n",
    "    print(\"does\", kitty, \"want some catnip?\")\n",
    "#SLIDES"
   ]
  },
  {
   "cell_type": "code",
   "execution_count": 71,
   "metadata": {
    "collapsed": false
   },
   "outputs": [
    {
     "name": "stdout",
     "output_type": "stream",
     "text": [
      "0\n",
      "1\n",
      "2\n",
      "the length of cats is 3\n"
     ]
    }
   ],
   "source": [
    "#expore more deeply how this works\n",
    "counter = 0\n",
    "for kitty in cats:\n",
    "    print(counter)\n",
    "    counter +=1\n",
    "#run cell\n",
    "print(\"the length of cats is\", len(cats))"
   ]
  },
  {
   "cell_type": "code",
   "execution_count": 72,
   "metadata": {
    "collapsed": false
   },
   "outputs": [
    {
     "name": "stdout",
     "output_type": "stream",
     "text": [
      "kitty = cats[0], so kitty = fluffy\n",
      "does fluffy want some catnip?\n",
      "yes, fluffy wants some catnip!\n",
      "\n",
      "kitty = cats[1], so kitty = whiskers\n",
      "does whiskers want some catnip?\n",
      "yes, whiskers wants some catnip!\n",
      "\n",
      "kitty = cats[2], so kitty = devil cat\n",
      "does devil cat want some catnip?\n",
      "yes, devil cat wants some catnip!\n",
      "\n"
     ]
    }
   ],
   "source": [
    "#edit the for loop to be more explicit\n",
    "counter = 0\n",
    "for kitty in cats:\n",
    "    print(\"kitty = cats[\", counter,\"]\", \", so kitty = \", cats[counter], sep='')\n",
    "    print(\"does\", kitty, \"want some catnip?\")\n",
    "    print(\"yes,\", cats[counter], \"wants some catnip!\")\n",
    "    print('')\n",
    "    counter +=1"
   ]
  },
  {
   "cell_type": "markdown",
   "metadata": {},
   "source": [
    "### \"whos\" is only in Jupyter Notebooks"
   ]
  },
  {
   "cell_type": "code",
   "execution_count": 73,
   "metadata": {
    "collapsed": false
   },
   "outputs": [
    {
     "name": "stdout",
     "output_type": "stream",
     "text": [
      "Variable       Type         Data/Info\n",
      "-------------------------------------\n",
      "cats           list         n=3\n",
      "counter        int          3\n",
      "decision       str          quit\n",
      "key            str          m\n",
      "key_list       dict_keys    dict_keys(['j', 'm'])\n",
      "kitty          str          devil cat\n",
      "letter_count   int          14\n",
      "months         dict         n=2\n",
      "name           str          nugent\n",
      "names          list         n=3\n",
      "options        list         n=4\n",
      "random         module       <module 'random' from '/U<...>lib/python3.5/random.py'>\n"
     ]
    }
   ],
   "source": [
    "whos   "
   ]
  },
  {
   "cell_type": "markdown",
   "metadata": {},
   "source": [
    "### For Loop Exercise"
   ]
  },
  {
   "cell_type": "markdown",
   "metadata": {},
   "source": [
    "#### five minutes\n",
    "Create a list of all of the words in your name (example \"Janna\", \"Ore\", \"Nugent\")\n",
    "write a for loop to count how many letters are in your name in total (example: 14)\n",
    "help: use \"len()\", and a variable"
   ]
  },
  {
   "cell_type": "code",
   "execution_count": 74,
   "metadata": {
    "collapsed": false
   },
   "outputs": [
    {
     "name": "stdout",
     "output_type": "stream",
     "text": [
      "the total number of letters is 14\n"
     ]
    }
   ],
   "source": [
    "names = [\"janna\", \"ore\", \"nugent\"]\n",
    "letter_count=0\n",
    "for name in names:\n",
    "    letter_count = letter_count + len(name)\n",
    "print(\"the total number of letters is\", letter_count)"
   ]
  },
  {
   "cell_type": "markdown",
   "metadata": {},
   "source": [
    "### Dictionaries"
   ]
  },
  {
   "cell_type": "markdown",
   "metadata": {},
   "source": [
    "#### switch to Alper's script"
   ]
  },
  {
   "cell_type": "markdown",
   "metadata": {},
   "source": [
    "#### come back for while loops"
   ]
  },
  {
   "cell_type": "code",
   "execution_count": 75,
   "metadata": {
    "collapsed": false
   },
   "outputs": [
    {
     "data": {
      "text/plain": [
       "'keep going'"
      ]
     },
     "execution_count": 75,
     "metadata": {},
     "output_type": "execute_result"
    }
   ],
   "source": [
    "import random\n",
    "options = ['keep going', 'renew effort', \"continue\", \"quit\"]\n",
    "random.choice(options)"
   ]
  },
  {
   "cell_type": "code",
   "execution_count": 76,
   "metadata": {
    "collapsed": false
   },
   "outputs": [
    {
     "name": "stdout",
     "output_type": "stream",
     "text": [
      "continue\n",
      "keep going\n",
      "quit\n"
     ]
    }
   ],
   "source": [
    "decision = 'start'\n",
    "while decision != \"quit\":\n",
    "    decision=random.choice(options)\n",
    "    print(decision)"
   ]
  },
  {
   "cell_type": "code",
   "execution_count": 77,
   "metadata": {
    "collapsed": true
   },
   "outputs": [
    {
     "ename": "SyntaxError",
     "evalue": "invalid syntax (<ipython-input-77-679519afc742>, line 1)",
     "output_type": "error",
     "traceback": [
      "\u001b[0;36m  File \u001b[0;32m\"<ipython-input-77-679519afc742>\"\u001b[0;36m, line \u001b[0;32m1\u001b[0m\n\u001b[0;31m    random.randint?  # hit tab\u001b[0m\n\u001b[0m                  ^\u001b[0m\n\u001b[0;31mSyntaxError\u001b[0m\u001b[0;31m:\u001b[0m invalid syntax\n"
     ]
    }
   ],
   "source": [
    "random.randint?  # hit tab\n"
   ]
  },
  {
   "cell_type": "code",
   "execution_count": null,
   "metadata": {
    "collapsed": true
   },
   "outputs": [],
   "source": []
  }
 ],
 "metadata": {
  "kernelspec": {
   "display_name": "Python [Root]",
   "language": "python",
   "name": "Python [Root]"
  },
  "language_info": {
   "codemirror_mode": {
    "name": "ipython",
    "version": 3
   },
   "file_extension": ".py",
   "mimetype": "text/x-python",
   "name": "python",
   "nbconvert_exporter": "python",
   "pygments_lexer": "ipython3",
   "version": "3.5.2"
  }
 },
 "nbformat": 4,
 "nbformat_minor": 0
}
