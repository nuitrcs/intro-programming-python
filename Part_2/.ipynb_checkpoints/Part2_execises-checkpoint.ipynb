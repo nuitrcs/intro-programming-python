{
 "cells": [
  {
   "cell_type": "markdown",
   "metadata": {},
   "source": [
    "# Functions with Lists, Tuples, Strings\n",
    "-----"
   ]
  },
  {
   "cell_type": "markdown",
   "metadata": {},
   "source": [
    "We did some practice with lists in Part 1.  Here's a bit more with functions."
   ]
  },
  {
   "cell_type": "markdown",
   "metadata": {},
   "source": [
    "### Exercise: List Functions\n",
    "\n",
    "We can quickly identify the smallest or largest items in a list with the [`min()`](https://docs.python.org/3.6/library/functions.html#min) and [`max()`](https://docs.python.org/3.6/library/functions.html#max) functions. Find out how to use these function from the web and then use them to identify the maximum and minumum elements of the list `[-3,-2,-1,0,1,2,3,4,5,6,7]`"
   ]
  },
  {
   "cell_type": "markdown",
   "metadata": {},
   "source": [
    "### Exercise: Tuple Functions\n",
    "\n",
    "Use `min()` and `max()` functions to identify the maximum and minumum elements of the tuple `{-3,-2,-1,0,1,2,3,4,5,6,7}`"
   ]
  },
  {
   "cell_type": "markdown",
   "metadata": {},
   "source": [
    "### Exercise: List slicing practice\n",
    "\n",
    "Define variable `my_list` as `[1,2,3,5,7,11]`. Is `my_list[3::-1]` the same as `my_list[3:0:-1]`. Why or why not? "
   ]
  },
  {
   "cell_type": "markdown",
   "metadata": {},
   "source": [
    "When indexing a list with `[start:end:stride]` the end element is not included, however an omitted index is equivalent to the end of the list (positive stride) or the beginning of the list (negative stride)."
   ]
  },
  {
   "cell_type": "markdown",
   "metadata": {},
   "source": [
    "### Exercise: \"in\" operator\n",
    "\n",
    "We can use the \"in\" operator to test if a list contains a particular value. Look up how to use \"in\" operator on the web and determine if the following values in the lists `[1,2,3,4]`, `[0, 2, 3]`, and `[-3,-2,-1,0,1,2,3,4,5,6,7,8,9,10]`.  (You may want to define variables for these lists first.)\n",
    "\n",
    "- integer 1\n",
    "- string \"10.0\"\n",
    "- boolean True\n",
    "- boolean False"
   ]
  },
  {
   "cell_type": "markdown",
   "metadata": {},
   "source": [
    "### Exercise: Quote characters\n",
    "\n",
    "Is there any difference between strings `S1`, `S2`, `S3`, `S4` defined below? Print their lenghts (i.e. the number of characters for a string) with `len()` function to check."
   ]
  },
  {
   "cell_type": "code",
   "execution_count": 5,
   "metadata": {
    "collapsed": false
   },
   "outputs": [
    {
     "name": "stdout",
     "output_type": "stream",
     "text": [
      "a string\n",
      "a string\n",
      "a string\n",
      "a string\n",
      "\n"
     ]
    }
   ],
   "source": [
    "S1='a string'\n",
    "S2=\"a string\"\n",
    "S3=\"\"\"a string\"\"\"\n",
    "S4=\"\"\"a string\n",
    "\"\"\"\n",
    "print(S1)\n",
    "print(S2)\n",
    "print(S3)\n",
    "print(S4)"
   ]
  },
  {
   "cell_type": "markdown",
   "metadata": {
    "collapsed": true
   },
   "source": [
    "### Exercise: sort and reverse\n",
    "\n",
    "On the web, search for sort and reverse methods for lists. Apply these methods to list `[9.02,20.4,-4,67,2,34,34.1,0]`\n",
    "\n",
    "- First, order the elements in the list from the smallest to the largest using sort methods\n",
    "- Second, use the reverse method to order the list from the largest to the smallest "
   ]
  },
  {
   "cell_type": "markdown",
   "metadata": {},
   "source": [
    "### Exercise: Reverse Sort\n",
    "\n",
    "Use only the sort method get the list `[9.02,20.4,-4,67,2,34,34.1,0]` sorted from the largest to the smallest. (Tip: sort method accepts a reverse parameter)"
   ]
  },
  {
   "cell_type": "markdown",
   "metadata": {},
   "source": [
    "### Exercise: Sorting Tuples\n",
    "\n",
    "Can you apply the same sort and reverse methods to the tuple `{9.02,20.4,-4,67,2,34,34.1,0}`? Trying is the best way to answer!"
   ]
  },
  {
   "cell_type": "markdown",
   "metadata": {},
   "source": [
    "### Challenging Exercise: String Functions\n",
    "\n",
    "Look up the [string formatting syntax](https://docs.python.org/3.6/library/string.html#format-string-syntax).  \n",
    "\n",
    "Define variable `errorrate` as .020456.  Print `val` as part of a string with two decimal digits and a percentage using the string formatting syntax so that the output looks like:\n",
    "\n",
    "`Error rate: 2.05%`"
   ]
  },
  {
   "cell_type": "markdown",
   "metadata": {},
   "source": [
    "# If/else\n",
    "----"
   ]
  },
  {
   "cell_type": "markdown",
   "metadata": {},
   "source": [
    "### Exercise: if/elif/else basics\n",
    "\n",
    "Write a small python code where you check if a variable with a numeric value is negative, positive, or zero and report solution by print.  "
   ]
  },
  {
   "cell_type": "markdown",
   "metadata": {},
   "source": [
    "# Loops\n",
    "----"
   ]
  },
  {
   "cell_type": "markdown",
   "metadata": {},
   "source": [
    "### Exercise: while loop\n",
    "\n",
    "Use while loop to print integers between 5 and 12 excluding limits (i.e. 5 and 12)"
   ]
  },
  {
   "cell_type": "markdown",
   "metadata": {},
   "source": [
    "### Challenging Exercise: while loop factorial\n",
    "\n",
    "Using a `while` loop, write a short python script to compute 34! (the factorial of 34: n! = `[n*(n-1)*(n-2)*...*2]`)"
   ]
  },
  {
   "cell_type": "markdown",
   "metadata": {},
   "source": [
    "### Challenging Exercise:  for loop factorial\n",
    "\n",
    "Write the same script (i.e. calculating 34!) using a `for` loop and the `range` function.\n",
    "\n",
    "- Search the web for range function and its usage\n",
    "- Test your understanding by constructing `for` loops to print the values in `range(7)`, `range(1,7)`, `range(1,7,2)`\n",
    "- Construct the `for` loop with appropriate use of the `range` function to calculate n!"
   ]
  },
  {
   "cell_type": "markdown",
   "metadata": {},
   "source": [
    "### Exercise: More looping\n",
    "\n",
    "Write a script that divides 50 by each integer between 1 and 20 and print results.  Do this using a `while` loop, then a `for` loop.  For the `for` loop, you may want to use the [`range`](https://docs.python.org/3.6/library/functions.html#func-range) function."
   ]
  },
  {
   "cell_type": "markdown",
   "metadata": {},
   "source": [
    "### Challenging Exercise: zip\n",
    "\n",
    "You can loop over more than one counter variable in a single `for` loop. Search the web on how to do this. Now, loop over the elements of tuple `(1,2,3,4)` and lists `['a','b','c',999]` and `[2,4,16,256]` simultaneously by zipping them (remember the `zip` function!)"
   ]
  },
  {
   "cell_type": "markdown",
   "metadata": {},
   "source": [
    "# Putting the Pieces Together\n",
    "----"
   ]
  },
  {
   "cell_type": "markdown",
   "metadata": {},
   "source": [
    "### Exercise: Print primes\n",
    "\n",
    "Print prime numbers between 2 and 100.\n",
    "\n",
    "First do this with `while` loops, then with `for` loops. You'll also need conditional statements.\n",
    "\n",
    "Hint: you may want to use [`break`](https://docs.python.org/3.6/tutorial/controlflow.html#break-and-continue-statements-and-else-clauses-on-loops)."
   ]
  },
  {
   "cell_type": "markdown",
   "metadata": {},
   "source": [
    "# Dictionaries\n",
    "-----"
   ]
  },
  {
   "cell_type": "markdown",
   "metadata": {},
   "source": [
    "### Exercise: Define a dictionary\n",
    "\n",
    "Define a dictionary called `colors` where values Red Blue Green Purple Yellow White Magenta and Orange are represented by their initial letters as keys. Print the dictionary and the dictionary's length."
   ]
  },
  {
   "cell_type": "markdown",
   "metadata": {},
   "source": [
    "### Exercise: Add a value\n",
    "\n",
    "Add Black to the colors dictionary with the same method as described before and print the dictionary and it's length."
   ]
  },
  {
   "cell_type": "markdown",
   "metadata": {},
   "source": [
    "### Exercise: Looping with dictionaries\n",
    "\n",
    "Create a dictionary with at least 5 entries.  Use a `for` loop to loop through the dictionary (e.g. `for i in my_dict:`).  Print the value of the loop variable (`i`).  What gets printed? "
   ]
  },
  {
   "cell_type": "markdown",
   "metadata": {},
   "source": [
    "### Exercise: Deleting dictionary entries\n",
    "\n",
    "To delete an element from dictionary `del` is used. Search the internet to find the usage of `del`. Delete the value with the fish key from the dictionary `{'horse':1, 'dog':2, 'fish':3, 'bird':4, 'cat':5, 'monkey':6}` and print the new dictionary"
   ]
  },
  {
   "cell_type": "markdown",
   "metadata": {},
   "source": [
    "### Exercise: Copying and Updating\n",
    "\n",
    "Search the internet for available methods of dictionaries. Then:\n",
    "\n",
    "- Copy the dictionary  `{'horse':1, 'dog':2, 'fish':3, 'bird':4, 'cat':5, 'monkey':6}` to another dictionary using `copy` method and print the result\n",
    "- Add `{'eagle':7,'zebra':8}` to the previous dictionary using `update` method and print the result\n",
    "- Empty the dictionary using `clear` method and print the result"
   ]
  },
  {
   "cell_type": "markdown",
   "metadata": {},
   "source": [
    "# More Challenges\n",
    "----"
   ]
  },
  {
   "cell_type": "markdown",
   "metadata": {},
   "source": [
    "### Challenging Exercise: Temperature Conversion\n",
    "\n",
    "Write a python code that can convert between celsius & fahrenheit. Define the temperature as a string such as '102.4F' or '23C'. If the initial temperature is not properly defined print 'Error in entered temperature'. \n",
    "\n",
    "The conversion equation is: F = C * (9/5) + 32\n",
    "\n",
    "Expected output should look like the following depending on your initial entry: \n",
    "\n",
    "60C is 140.0 in Fahrenheit\n",
    "\n",
    "24F is -4.444 in Celsius "
   ]
  },
  {
   "cell_type": "markdown",
   "metadata": {},
   "source": [
    "### Challenging Exercise: Fibonacci\n",
    "\n",
    "Write a python code to print out the numbers in [Fibonacci](https://en.wikipedia.org/wiki/Fibonacci_number) series between 0 to 100.  Try to use as few lines of code as possible."
   ]
  }
 ],
 "metadata": {
  "anaconda-cloud": {},
  "kernelspec": {
   "display_name": "Python 3",
   "language": "python",
   "name": "python3"
  },
  "language_info": {
   "codemirror_mode": {
    "name": "ipython",
    "version": 3
   },
   "file_extension": ".py",
   "mimetype": "text/x-python",
   "name": "python",
   "nbconvert_exporter": "python",
   "pygments_lexer": "ipython3",
   "version": "3.6.1"
  }
 },
 "nbformat": 4,
 "nbformat_minor": 1
}
