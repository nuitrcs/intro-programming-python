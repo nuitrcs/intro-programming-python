{
 "cells": [
  {
   "cell_type": "markdown",
   "metadata": {},
   "source": [
    "# CONDITIONALS & LOOPS"
   ]
  },
  {
   "cell_type": "markdown",
   "metadata": {},
   "source": [
    "### Now that we have covered data types and sequences, let's use loops and conditionals to do some programming.\n",
    "### Prior to this point we have seen data types and collections that are specific to python. Conditionals and loops, on the other hand, are basic concepts that are used in all well-known coding languages "
   ]
  },
  {
   "cell_type": "markdown",
   "metadata": {},
   "source": [
    "## - Conditionals"
   ]
  },
  {
   "cell_type": "markdown",
   "metadata": {},
   "source": [
    "### The actions in computer programs adapt changing input by the help of conditional statements.\n",
    "\n",
    "### `if` statement starts a condition in python where some action is taken if the condition is satisfied"
   ]
  },
  {
   "cell_type": "code",
   "execution_count": null,
   "metadata": {
    "collapsed": false
   },
   "outputs": [],
   "source": [
    "if 8>1:\n",
    "    print('8 is bigger than 1')"
   ]
  },
  {
   "cell_type": "code",
   "execution_count": null,
   "metadata": {
    "collapsed": false
   },
   "outputs": [],
   "source": [
    "if 8<1:\n",
    "    print('If this is printed, consider using another language')"
   ]
  },
  {
   "cell_type": "markdown",
   "metadata": {},
   "source": [
    "### As you see the condition (8 < 1) is false and nothing printed"
   ]
  },
  {
   "cell_type": "markdown",
   "metadata": {},
   "source": [
    "### Parentheses after \"if\" make the expressions more readable"
   ]
  },
  {
   "cell_type": "code",
   "execution_count": null,
   "metadata": {
    "collapsed": false
   },
   "outputs": [],
   "source": [
    "if (8>1):\n",
    "    print('8 is bigger than 1')"
   ]
  },
  {
   "cell_type": "markdown",
   "metadata": {},
   "source": [
    "### There are many other comparison operators, equal : `==`, not equal : `!=`, greater than or equal to : `>=` "
   ]
  },
  {
   "cell_type": "code",
   "execution_count": null,
   "metadata": {
    "collapsed": false
   },
   "outputs": [],
   "source": [
    "if 8>=1:\n",
    "    print('8 is greater than or equal to 1')"
   ]
  },
  {
   "cell_type": "code",
   "execution_count": null,
   "metadata": {
    "collapsed": false
   },
   "outputs": [],
   "source": [
    "if 8!=1:\n",
    "    print('8 is not equal to 1')"
   ]
  },
  {
   "cell_type": "markdown",
   "metadata": {},
   "source": [
    "### Using the words `and`, `or`, `not`, more complex conditionals can be written"
   ]
  },
  {
   "cell_type": "code",
   "execution_count": null,
   "metadata": {
    "collapsed": false
   },
   "outputs": [],
   "source": [
    "a=8\n",
    "b=4\n",
    "c=5.5\n",
    "if (b<c<a):\n",
    "    print('b is smaller than c, c is smaller than a')"
   ]
  },
  {
   "cell_type": "code",
   "execution_count": null,
   "metadata": {
    "collapsed": true
   },
   "outputs": [],
   "source": [
    "a=8\n",
    "b=4\n",
    "c=5.5\n",
    "d=11.99\n",
    "if(b<c<a) and (d>12):\n",
    "    print('b is smaller than c but bigger than a and d is bigger than 12')"
   ]
  },
  {
   "cell_type": "code",
   "execution_count": null,
   "metadata": {
    "collapsed": false
   },
   "outputs": [],
   "source": [
    "a=8\n",
    "if(not a<0):\n",
    "    print('a is not smaller than 0')"
   ]
  },
  {
   "cell_type": "markdown",
   "metadata": {},
   "source": [
    "### If an expression is as any of the following, it evaluates as False: \n",
    "### - Empty containers (tuples, sets, dicts and lists), such as [ ], { }\n",
    "### - Zero-length strings \"\" (not \" \")\n",
    "### - The values 0 or 0.0\n",
    "### - The value None\n",
    "### - The value False\n",
    "\n",
    "### Most other values evaluates as True"
   ]
  },
  {
   "cell_type": "code",
   "execution_count": null,
   "metadata": {
    "collapsed": false
   },
   "outputs": [],
   "source": [
    "a=\"\" # 0, 0.0, []\n",
    "if (not a): ## This is equivalent to if (a==0)\n",
    "    print('a is zero')"
   ]
  },
  {
   "cell_type": "code",
   "execution_count": null,
   "metadata": {
    "collapsed": false
   },
   "outputs": [],
   "source": [
    "a=[] # Try False, None, 0.0\n",
    "if (a):\n",
    "    print('a is not zero')"
   ]
  },
  {
   "cell_type": "code",
   "execution_count": null,
   "metadata": {
    "collapsed": false
   },
   "outputs": [],
   "source": [
    "a=\" \"\n",
    "if (a):\n",
    "    print('a is not zero')"
   ]
  },
  {
   "cell_type": "markdown",
   "metadata": {},
   "source": [
    "### An `if` statement can be followed by an `else` statement or any number of `elif` (i.e. else if) statements"
   ]
  },
  {
   "cell_type": "code",
   "execution_count": null,
   "metadata": {
    "collapsed": false
   },
   "outputs": [],
   "source": [
    "a=0\n",
    "if (a==0):\n",
    "    print('zero')\n",
    "else:\n",
    "    print('negative or positive')"
   ]
  },
  {
   "cell_type": "code",
   "execution_count": null,
   "metadata": {
    "collapsed": false
   },
   "outputs": [],
   "source": [
    "a=3\n",
    "if (a==0):\n",
    "    print('zero')\n",
    "elif (a>0):\n",
    "    print('positive')\n",
    "elif (a<=0):             # This option will never run\n",
    "    print('negative')"
   ]
  },
  {
   "cell_type": "code",
   "execution_count": null,
   "metadata": {
    "collapsed": false
   },
   "outputs": [],
   "source": [
    "a=3\n",
    "if (a==0):\n",
    "    print('zero')\n",
    "elif (a>0):\n",
    "    print('positive')\n",
    "else:            \n",
    "    print('negative')"
   ]
  },
  {
   "cell_type": "markdown",
   "metadata": {},
   "source": [
    "### `if`, `elif` and `else` statements must have at least one python action"
   ]
  },
  {
   "cell_type": "code",
   "execution_count": null,
   "metadata": {
    "collapsed": false
   },
   "outputs": [],
   "source": [
    "a=3\n",
    "if (a==0):\n",
    "#    print('zero')\n",
    "elif (a>0):\n",
    "    print('positive')\n",
    "else:            \n",
    "    print('negative')"
   ]
  },
  {
   "cell_type": "markdown",
   "metadata": {},
   "source": [
    "### You could use `pass` clause as a placeholder which does nothing"
   ]
  },
  {
   "cell_type": "code",
   "execution_count": null,
   "metadata": {
    "collapsed": false
   },
   "outputs": [],
   "source": [
    "a=0\n",
    "if (a==0):\n",
    "    #print('zero')\n",
    "    pass\n",
    "elif (a>0):\n",
    "    print('positive')\n",
    "else:            \n",
    "    print('negative')"
   ]
  },
  {
   "cell_type": "markdown",
   "metadata": {},
   "source": [
    "### In python indentation defines the grouping. Especially if you are writing nested arguments, be very careful about the indentation level"
   ]
  },
  {
   "cell_type": "code",
   "execution_count": null,
   "metadata": {
    "collapsed": false
   },
   "outputs": [],
   "source": [
    "a=1\n",
    "b=0\n",
    "if (a == 0): \n",
    "    print(\"a is zero\")\n",
    "    if (b == 0):\n",
    "        print(\"a and b are zero\")\n",
    "else:\n",
    "    print(\"a is definitely not zero\")"
   ]
  },
  {
   "cell_type": "code",
   "execution_count": null,
   "metadata": {
    "collapsed": false
   },
   "outputs": [],
   "source": [
    "a=1\n",
    "b=0\n",
    "if (a == 0): \n",
    "    print(\"a is zero\")\n",
    "    if (b == 0):\n",
    "        print(\"a and b are zero\")\n",
    "    else:\n",
    "        print(\"a is definitely not zero\")"
   ]
  },
  {
   "cell_type": "markdown",
   "metadata": {},
   "source": [
    "### Python allows single line if statements. For readability purposes generally writing an indented code is better practice"
   ]
  },
  {
   "cell_type": "code",
   "execution_count": null,
   "metadata": {
    "collapsed": false
   },
   "outputs": [],
   "source": [
    "a=3\n",
    "if (a==0): print('zero')\n",
    "elif (a>0): print('positive')\n",
    "else: print('negative')"
   ]
  },
  {
   "cell_type": "markdown",
   "metadata": {},
   "source": [
    "## - Loops"
   ]
  },
  {
   "cell_type": "markdown",
   "metadata": {},
   "source": [
    "### A loop is a construct to execute some code for every item of a sequence. Let's start to discuss loops by introducing `for` loop"
   ]
  },
  {
   "cell_type": "code",
   "execution_count": null,
   "metadata": {
    "collapsed": false
   },
   "outputs": [],
   "source": [
    "for i in [1,\"blue\",2.9,True,\"winter is coming\"]:\n",
    "    print(i)"
   ]
  },
  {
   "cell_type": "markdown",
   "metadata": {},
   "source": [
    "### Let's say we have a list variable with some string items in it. We want to capitilize all items. We can still do it without a loop."
   ]
  },
  {
   "cell_type": "code",
   "execution_count": null,
   "metadata": {
    "collapsed": false
   },
   "outputs": [],
   "source": [
    "animals = ['chicken', 'sheep', 'goat', 'llama']\n",
    "print(animals[0].upper())\n",
    "print(animals[1].upper())\n",
    "print(animals[2].upper())\n",
    "print(animals[3].upper())"
   ]
  },
  {
   "cell_type": "markdown",
   "metadata": {},
   "source": [
    "### As you can see, this is pretty ugly because we are repeating ourselves and this will be no fun to type if our list had, say, 100 items in it.\n",
    "\n",
    "### Let's try with a `for` loop:"
   ]
  },
  {
   "cell_type": "code",
   "execution_count": null,
   "metadata": {
    "collapsed": false
   },
   "outputs": [],
   "source": [
    "for animal in animals:\n",
    "    print(animal.upper())"
   ]
  },
  {
   "cell_type": "markdown",
   "metadata": {},
   "source": [
    "### The `for .. in` statement takes each element of a sequence or other \"iterable\" variable, assigns the element temporarily to the name you specify (\"animal\" in this instance), and executes the statements in the indented block.\n",
    "\n",
    "### When that block is finished executing for a given value of the sequence, the next value in the sequence gets assigned to the variable you created and the statements in the block are run again, and on and on until the sequence runs out of values."
   ]
  },
  {
   "cell_type": "markdown",
   "metadata": {},
   "source": [
    "### We can loop over lots of different kinds of things in Python."
   ]
  },
  {
   "cell_type": "markdown",
   "metadata": {},
   "source": [
    "### Dictionaries (by key):"
   ]
  },
  {
   "cell_type": "code",
   "execution_count": null,
   "metadata": {
    "collapsed": false
   },
   "outputs": [],
   "source": [
    "animal_names = {'dog': 'Rex', 'rat': 'Willard', 'turtle': 'Leonardo'}\n",
    "for species in animal_names:\n",
    "    print(\"The\", species, \"is named\", animal_names[species])"
   ]
  },
  {
   "cell_type": "markdown",
   "metadata": {},
   "source": [
    "### Strings (by character):"
   ]
  },
  {
   "cell_type": "code",
   "execution_count": null,
   "metadata": {
    "collapsed": false
   },
   "outputs": [],
   "source": [
    "alpha = \"abcdefg\"\n",
    "for letter in alpha:\n",
    "    print(letter)"
   ]
  },
  {
   "cell_type": "markdown",
   "metadata": {},
   "source": [
    "### Strings (by words):"
   ]
  },
  {
   "cell_type": "code",
   "execution_count": null,
   "metadata": {
    "collapsed": false
   },
   "outputs": [],
   "source": [
    "lyrics = \"I did it my way\"\n",
    "for word in lyrics.split(\" \"):\n",
    "    print(word.upper())"
   ]
  },
  {
   "cell_type": "markdown",
   "metadata": {},
   "source": [
    "### `break` is a special statement which is used to terminate the loops from inside before all items are processed over"
   ]
  },
  {
   "cell_type": "code",
   "execution_count": null,
   "metadata": {
    "collapsed": false
   },
   "outputs": [],
   "source": [
    "for i in (1,2,3,4,5,6,7,8):\n",
    "    print(i)\n",
    "    if i==4:\n",
    "        break\n",
    "    print('loop continues')"
   ]
  },
  {
   "cell_type": "markdown",
   "metadata": {},
   "source": [
    "### `continue` is another special statement that is used inside the for loop. This statement indicates that the loop will skip to the next item on the list without executing the rest of the actions for the current item."
   ]
  },
  {
   "cell_type": "code",
   "execution_count": null,
   "metadata": {
    "collapsed": false
   },
   "outputs": [],
   "source": [
    "for i in (1,2,3,4,5,6,7,8):\n",
    "    print(i)\n",
    "    if i==4:\n",
    "        continue\n",
    "    print('loop continues')"
   ]
  },
  {
   "cell_type": "markdown",
   "metadata": {},
   "source": [
    "### We have seen `else` statement in connection with `if` conditional. `else` can also be used with `for` loop. The action given with the `else` statement is executed when the loop terminates without any `break`"
   ]
  },
  {
   "cell_type": "code",
   "execution_count": null,
   "metadata": {
    "collapsed": false
   },
   "outputs": [],
   "source": [
    "for i in (1,3,5,7):\n",
    "    print(i)\n",
    "    if i==4:\n",
    "        break\n",
    "else:\n",
    "    print('loop completed')"
   ]
  },
  {
   "cell_type": "code",
   "execution_count": null,
   "metadata": {
    "collapsed": false
   },
   "outputs": [],
   "source": [
    "for i in (1,2,3,4,5,6):\n",
    "    print(i)\n",
    "    if i==4:\n",
    "        break\n",
    "else:\n",
    "    print('loop completed')"
   ]
  },
  {
   "cell_type": "markdown",
   "metadata": {},
   "source": [
    "### The python syntax allows for looping over more than one variable at the same time. "
   ]
  },
  {
   "cell_type": "code",
   "execution_count": null,
   "metadata": {
    "collapsed": false
   },
   "outputs": [],
   "source": [
    "for (i,j) in [('a',1.6),('k',2),('q',122)]:\n",
    "    print(i)\n",
    "    print(j)"
   ]
  },
  {
   "cell_type": "markdown",
   "metadata": {},
   "source": [
    "### Another widely used loop construct is `while`. This loop executes as long as the condition its given is true or until a `break` is encountered"
   ]
  },
  {
   "cell_type": "markdown",
   "metadata": {},
   "source": [
    "### Below a `while` loop is executed until \"count\" variable becomes 10. Once this value hits 10, the condition \"count < 10\" becomes false and the `while` statement stops executing. The mechanism to increase \"count\" is to add one to its value at each iteration."
   ]
  },
  {
   "cell_type": "code",
   "execution_count": null,
   "metadata": {
    "collapsed": false
   },
   "outputs": [],
   "source": [
    "count = 0\n",
    "while count < 10:\n",
    "    print(\"!\", end=\"\") # The \"end\" keyword argument here prevents the print function from emitting a newline character\n",
    "    count += 1 "
   ]
  },
  {
   "cell_type": "markdown",
   "metadata": {},
   "source": [
    "### We can use `continue` and `break` excatly same as `for` loop. `continue` will move the iteration to the next check on the logical condition given by the `while` and `break` will cause the loop to terminate immediately. "
   ]
  },
  {
   "cell_type": "code",
   "execution_count": null,
   "metadata": {
    "collapsed": false
   },
   "outputs": [],
   "source": [
    "i = 0\n",
    "while i < 10:\n",
    "    i += 1\n",
    "    if (i==4) or (i==8): continue\n",
    "    print(i)"
   ]
  },
  {
   "cell_type": "code",
   "execution_count": null,
   "metadata": {
    "collapsed": false
   },
   "outputs": [],
   "source": [
    "i = 0\n",
    "while i < 10:\n",
    "    i += 1\n",
    "    if (i==4): break\n",
    "    print(i)\n",
    "print(\"loop completed\")"
   ]
  },
  {
   "cell_type": "markdown",
   "metadata": {
    "collapsed": true
   },
   "source": [
    "### The use of `else` is also same in `while` and `for` loops. "
   ]
  },
  {
   "cell_type": "code",
   "execution_count": null,
   "metadata": {
    "collapsed": false
   },
   "outputs": [],
   "source": [
    "j = 8\n",
    "i = 0\n",
    "while i < j:\n",
    "    i += 1\n",
    "    if (i==10): break\n",
    "    print(i)\n",
    "else:\n",
    "    print(\"j is less than 10\")"
   ]
  }
 ],
 "metadata": {
  "anaconda-cloud": {},
  "kernelspec": {
   "display_name": "Python 3",
   "language": "python",
   "name": "python3"
  },
  "language_info": {
   "codemirror_mode": {
    "name": "ipython",
    "version": 3
   },
   "file_extension": ".py",
   "mimetype": "text/x-python",
   "name": "python",
   "nbconvert_exporter": "python",
   "pygments_lexer": "ipython3",
   "version": "3.6.1"
  }
 },
 "nbformat": 4,
 "nbformat_minor": 1
}
