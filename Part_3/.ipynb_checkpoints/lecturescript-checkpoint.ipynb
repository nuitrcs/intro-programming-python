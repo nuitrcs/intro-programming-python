{
 "cells": [
  {
   "cell_type": "markdown",
   "metadata": {},
   "source": [
    "## Intro To Python part 3"
   ]
  },
  {
   "cell_type": "markdown",
   "metadata": {},
   "source": [
    "### removing items from a list and other details"
   ]
  },
  {
   "cell_type": "code",
   "execution_count": 1,
   "metadata": {
    "collapsed": false
   },
   "outputs": [
    {
     "name": "stdout",
     "output_type": "stream",
     "text": [
      "['sunny', 'cloudy', 'rainy', 'windy']\n"
     ]
    }
   ],
   "source": [
    "my_list = [\"sunny\",\"cloudy\",\"rainy\",\"windy\"]\n",
    "print(my_list)"
   ]
  },
  {
   "cell_type": "code",
   "execution_count": 2,
   "metadata": {
    "collapsed": false
   },
   "outputs": [
    {
     "name": "stdout",
     "output_type": "stream",
     "text": [
      "['cloudy', 'rainy', 'windy']\n"
     ]
    }
   ],
   "source": [
    "del my_list[0]\n",
    "print(my_list)"
   ]
  },
  {
   "cell_type": "code",
   "execution_count": 3,
   "metadata": {
    "collapsed": false
   },
   "outputs": [
    {
     "name": "stdout",
     "output_type": "stream",
     "text": [
      "['rainy', 'windy']\n"
     ]
    }
   ],
   "source": [
    "my_list.remove(\"cloudy\")\n",
    "print(my_list)"
   ]
  },
  {
   "cell_type": "markdown",
   "metadata": {},
   "source": [
    "## Functions"
   ]
  },
  {
   "cell_type": "code",
   "execution_count": 4,
   "metadata": {
    "collapsed": true
   },
   "outputs": [],
   "source": [
    "# this is how you define a function \n",
    "def add_item(input_list, thing):\n",
    "   \"\"\"\n",
    "   add_item appends an item to a list.\n",
    "   To call it, pass in the list and the item to be added.\n",
    "   \"\"\"\n",
    "   input_list.append(thing);\n",
    "   return"
   ]
  },
  {
   "cell_type": "code",
   "execution_count": 5,
   "metadata": {
    "collapsed": false
   },
   "outputs": [],
   "source": [
    "#add_item??\n",
    "#help(add_item)"
   ]
  },
  {
   "cell_type": "code",
   "execution_count": 6,
   "metadata": {
    "collapsed": false
   },
   "outputs": [
    {
     "name": "stdout",
     "output_type": "stream",
     "text": [
      "Variable   Type        Data/Info\n",
      "--------------------------------\n",
      "add_item   function    <function add_item at 0x104146488>\n",
      "my_list    list        n=2\n"
     ]
    }
   ],
   "source": [
    "whos"
   ]
  },
  {
   "cell_type": "code",
   "execution_count": 7,
   "metadata": {
    "collapsed": false
   },
   "outputs": [
    {
     "name": "stdout",
     "output_type": "stream",
     "text": [
      "['sunny', 'cloudy', 'rainy', 'windy', 5]\n"
     ]
    }
   ],
   "source": [
    "my_list = [\"sunny\",\"cloudy\",\"rainy\",\"windy\"]\n",
    "add_item(my_list, 5)\n",
    "print(my_list)"
   ]
  },
  {
   "cell_type": "code",
   "execution_count": 8,
   "metadata": {
    "collapsed": false
   },
   "outputs": [
    {
     "name": "stdout",
     "output_type": "stream",
     "text": [
      "Variable   Type        Data/Info\n",
      "--------------------------------\n",
      "add_item   function    <function add_item at 0x104146488>\n",
      "my_list    list        n=5\n"
     ]
    }
   ],
   "source": [
    "whos"
   ]
  },
  {
   "cell_type": "code",
   "execution_count": 9,
   "metadata": {
    "collapsed": false
   },
   "outputs": [
    {
     "name": "stdout",
     "output_type": "stream",
     "text": [
      "['sunny', 'cloudy', 'rainy', 'windy', 5, 'blue']\n"
     ]
    }
   ],
   "source": [
    "add_item(my_list, \"blue\")\n",
    "print(my_list)"
   ]
  },
  {
   "cell_type": "code",
   "execution_count": 10,
   "metadata": {
    "collapsed": false
   },
   "outputs": [
    {
     "ename": "AttributeError",
     "evalue": "'str' object has no attribute 'append'",
     "output_type": "error",
     "traceback": [
      "\u001b[0;31m---------------------------------------------------------------------------\u001b[0m",
      "\u001b[0;31mAttributeError\u001b[0m                            Traceback (most recent call last)",
      "\u001b[0;32m<ipython-input-10-aece336b8467>\u001b[0m in \u001b[0;36m<module>\u001b[0;34m()\u001b[0m\n\u001b[1;32m      1\u001b[0m \u001b[0;31m#has to be in order\u001b[0m\u001b[0;34m\u001b[0m\u001b[0;34m\u001b[0m\u001b[0m\n\u001b[0;32m----> 2\u001b[0;31m \u001b[0madd_item\u001b[0m\u001b[0;34m(\u001b[0m\u001b[0;34m\"green\"\u001b[0m\u001b[0;34m,\u001b[0m \u001b[0mmy_list\u001b[0m\u001b[0;34m)\u001b[0m\u001b[0;34m\u001b[0m\u001b[0m\n\u001b[0m\u001b[1;32m      3\u001b[0m \u001b[0mprint\u001b[0m\u001b[0;34m(\u001b[0m\u001b[0mmy_list\u001b[0m\u001b[0;34m)\u001b[0m\u001b[0;34m\u001b[0m\u001b[0m\n",
      "\u001b[0;32m<ipython-input-4-f6ce62d96c53>\u001b[0m in \u001b[0;36madd_item\u001b[0;34m(input_list, thing)\u001b[0m\n\u001b[1;32m      5\u001b[0m    \u001b[0mTo\u001b[0m \u001b[0mcall\u001b[0m \u001b[0mit\u001b[0m\u001b[0;34m,\u001b[0m \u001b[0;32mpass\u001b[0m \u001b[0;32min\u001b[0m \u001b[0mthe\u001b[0m \u001b[0mlist\u001b[0m \u001b[0;32mand\u001b[0m \u001b[0mthe\u001b[0m \u001b[0mitem\u001b[0m \u001b[0mto\u001b[0m \u001b[0mbe\u001b[0m \u001b[0madded\u001b[0m\u001b[0;34m.\u001b[0m\u001b[0;34m\u001b[0m\u001b[0m\n\u001b[1;32m      6\u001b[0m    \"\"\"\n\u001b[0;32m----> 7\u001b[0;31m    \u001b[0minput_list\u001b[0m\u001b[0;34m.\u001b[0m\u001b[0mappend\u001b[0m\u001b[0;34m(\u001b[0m\u001b[0mthing\u001b[0m\u001b[0;34m)\u001b[0m\u001b[0;34m;\u001b[0m\u001b[0;34m\u001b[0m\u001b[0m\n\u001b[0m\u001b[1;32m      8\u001b[0m    \u001b[0;32mreturn\u001b[0m\u001b[0;34m\u001b[0m\u001b[0m\n",
      "\u001b[0;31mAttributeError\u001b[0m: 'str' object has no attribute 'append'"
     ]
    }
   ],
   "source": [
    "#has to be in order\n",
    "add_item(\"green\", my_list)\n",
    "print(my_list)"
   ]
  },
  {
   "cell_type": "code",
   "execution_count": 11,
   "metadata": {
    "collapsed": false
   },
   "outputs": [
    {
     "name": "stdout",
     "output_type": "stream",
     "text": [
      "['sunny', 'cloudy', 'rainy', 'windy', 'green', 'yellow', 'red']\n"
     ]
    }
   ],
   "source": [
    "# can call a function in a loop\n",
    "my_list = [\"sunny\",\"cloudy\",\"rainy\",\"windy\"]\n",
    "my_other_list=[\"green\", \"yellow\", \"red\"]\n",
    "\n",
    "for thing in my_other_list:   #<--- a few words about naming\n",
    "    add_item(my_list, thing)\n",
    "print(my_list)"
   ]
  },
  {
   "cell_type": "code",
   "execution_count": 12,
   "metadata": {
    "collapsed": false
   },
   "outputs": [
    {
     "name": "stdout",
     "output_type": "stream",
     "text": [
      "['sunny', 'cloudy', 'rainy', 'windy', 'green', 'yellow', 'red']\n"
     ]
    }
   ],
   "source": [
    "# the easier way to do that\n",
    "my_list = [\"sunny\",\"cloudy\",\"rainy\",\"windy\"]\n",
    "my_other_list=[\"green\", \"yellow\", \"red\"]\n",
    "yet_another_list = my_list + my_other_list\n",
    "print(yet_another_list)"
   ]
  },
  {
   "cell_type": "markdown",
   "metadata": {},
   "source": [
    "### Namespace"
   ]
  },
  {
   "cell_type": "code",
   "execution_count": 13,
   "metadata": {
    "collapsed": false
   },
   "outputs": [
    {
     "name": "stdout",
     "output_type": "stream",
     "text": [
      "The Zen of Python, by Tim Peters\n",
      "\n",
      "Beautiful is better than ugly.\n",
      "Explicit is better than implicit.\n",
      "Simple is better than complex.\n",
      "Complex is better than complicated.\n",
      "Flat is better than nested.\n",
      "Sparse is better than dense.\n",
      "Readability counts.\n",
      "Special cases aren't special enough to break the rules.\n",
      "Although practicality beats purity.\n",
      "Errors should never pass silently.\n",
      "Unless explicitly silenced.\n",
      "In the face of ambiguity, refuse the temptation to guess.\n",
      "There should be one-- and preferably only one --obvious way to do it.\n",
      "Although that way may not be obvious at first unless you're Dutch.\n",
      "Now is better than never.\n",
      "Although never is often better than *right* now.\n",
      "If the implementation is hard to explain, it's a bad idea.\n",
      "If the implementation is easy to explain, it may be a good idea.\n",
      "Namespaces are one honking great idea -- let's do more of those!\n"
     ]
    }
   ],
   "source": [
    "import this"
   ]
  },
  {
   "cell_type": "code",
   "execution_count": 14,
   "metadata": {
    "collapsed": true
   },
   "outputs": [],
   "source": [
    "# namespace\n",
    "def add_em():\n",
    "    print(announce)\n",
    "    print(a+b)\n",
    "    return"
   ]
  },
  {
   "cell_type": "code",
   "execution_count": 15,
   "metadata": {
    "collapsed": false
   },
   "outputs": [
    {
     "name": "stdout",
     "output_type": "stream",
     "text": [
      "I have your result:\n",
      "3\n"
     ]
    }
   ],
   "source": [
    "#namespace example\n",
    "announce=\"I have your result:\"\n",
    "a=1\n",
    "b=2\n",
    "\n",
    "add_em()"
   ]
  },
  {
   "cell_type": "code",
   "execution_count": 16,
   "metadata": {
    "collapsed": true
   },
   "outputs": [],
   "source": [
    "# namespace\n",
    "def add_em():\n",
    "    a=5 # <-------\n",
    "    b=6 # <-------\n",
    "    print(announce)\n",
    "    print(a+b)\n",
    "    return"
   ]
  },
  {
   "cell_type": "code",
   "execution_count": 17,
   "metadata": {
    "collapsed": true
   },
   "outputs": [],
   "source": [
    "# namespace\n",
    "def add_em(a,b):# <-------  and edit the call to include the parameters\n",
    "    print(announce)\n",
    "    print(a+b)\n",
    "    return"
   ]
  },
  {
   "cell_type": "markdown",
   "metadata": {},
   "source": [
    "### Parameters pass by Reference"
   ]
  },
  {
   "cell_type": "markdown",
   "metadata": {},
   "source": [
    "#### All parameters (arguments) in the Python language are passed by reference. It means if you change what a parameter refers to within a function, the change also reflects back in the calling function. "
   ]
  },
  {
   "cell_type": "code",
   "execution_count": 18,
   "metadata": {
    "collapsed": true
   },
   "outputs": [],
   "source": [
    "def fillCup(cup):\n",
    "    \"Sets the parameter to 'full'\"\n",
    "    cup=\"full\"\n",
    "    print(cup)\n",
    "    return"
   ]
  },
  {
   "cell_type": "code",
   "execution_count": 19,
   "metadata": {
    "collapsed": false
   },
   "outputs": [
    {
     "name": "stdout",
     "output_type": "stream",
     "text": [
      "full\n",
      "empty\n"
     ]
    }
   ],
   "source": [
    "cup=\"empty\"\n",
    "fillCup(cup)\n",
    "print(cup)"
   ]
  },
  {
   "cell_type": "markdown",
   "metadata": {},
   "source": [
    "#### Any time you see varname =, you're creating a new name binding within the function's scope. Whatever value varname was bound to before is lost within this scope.\n",
    "\n",
    "#### Any time you see varname.foo() you're calling a method on varname. The method may alter varname (e.g. list.append).  varname (or, rather, the object that varname names) may exist in more than one scope, and since it's the same object, any changes will be visible in all scopes."
   ]
  },
  {
   "cell_type": "markdown",
   "metadata": {},
   "source": [
    "### Another way to do it"
   ]
  },
  {
   "cell_type": "code",
   "execution_count": 20,
   "metadata": {
    "collapsed": true
   },
   "outputs": [],
   "source": [
    "def fillCup2(cup):\n",
    "    \"Sets the parameter to 'full'\"\n",
    "    return(\"full\")"
   ]
  },
  {
   "cell_type": "code",
   "execution_count": 21,
   "metadata": {
    "collapsed": false
   },
   "outputs": [
    {
     "name": "stdout",
     "output_type": "stream",
     "text": [
      "empty\n",
      "full\n"
     ]
    }
   ],
   "source": [
    "cup=\"empty\"\n",
    "print(cup)\n",
    "cup=fillCup2(cup)\n",
    "print(cup)"
   ]
  },
  {
   "cell_type": "markdown",
   "metadata": {},
   "source": [
    "## Objects with classes"
   ]
  },
  {
   "cell_type": "markdown",
   "metadata": {},
   "source": [
    "### for filling cups, this might be better"
   ]
  },
  {
   "cell_type": "code",
   "execution_count": 22,
   "metadata": {
    "collapsed": true
   },
   "outputs": [],
   "source": [
    "class cup:\n",
    "    \"\"\"An object with .state, .color and .temp\"\"\"\n",
    "    state = \"empty\"\n",
    "    color = \"brown\"\n",
    "    temp = 110\n",
    "    \n",
    "    #def fill():\n",
    "        #cup.state = \"full\""
   ]
  },
  {
   "cell_type": "code",
   "execution_count": 23,
   "metadata": {
    "collapsed": false
   },
   "outputs": [
    {
     "name": "stdout",
     "output_type": "stream",
     "text": [
      "An object with .state, .color and .temp\n"
     ]
    }
   ],
   "source": [
    "print(cup.__doc__)\n",
    "#print(add_item.__doc__)"
   ]
  },
  {
   "cell_type": "code",
   "execution_count": 24,
   "metadata": {
    "collapsed": false
   },
   "outputs": [
    {
     "name": "stdout",
     "output_type": "stream",
     "text": [
      "empty\n",
      "brown\n",
      "110\n"
     ]
    }
   ],
   "source": [
    "my_cup = cup\n",
    "print(my_cup.state)\n",
    "print(my_cup.color) \n",
    "print(my_cup.temp)"
   ]
  },
  {
   "cell_type": "code",
   "execution_count": 25,
   "metadata": {
    "collapsed": true
   },
   "outputs": [],
   "source": [
    "def fill_cup(a_cup):\n",
    "    a_cup.state = \"full\"\n",
    "    return"
   ]
  },
  {
   "cell_type": "code",
   "execution_count": 26,
   "metadata": {
    "collapsed": false
   },
   "outputs": [
    {
     "name": "stdout",
     "output_type": "stream",
     "text": [
      "empty\n",
      "full\n"
     ]
    }
   ],
   "source": [
    "print(my_cup.state)\n",
    "fill_cup(my_cup)\n",
    "print(my_cup.state)"
   ]
  },
  {
   "cell_type": "code",
   "execution_count": 27,
   "metadata": {
    "collapsed": false
   },
   "outputs": [],
   "source": [
    "#add this method to cup:\n",
    "class cup:\n",
    "    \"\"\"An object with .name, .state, .color, .temp ()\"\"\"\n",
    "    \n",
    "    def __init__(self, name, color):\n",
    "        self.state = \"empty\"\n",
    "        self.color = color\n",
    "        self.name = name\n",
    "        self.temp = 72\n",
    "    \n",
    "    def fill(self):\n",
    "        if (self.state == \"empty\"):\n",
    "            self.state = \"full\"\n",
    "            self.temp = self.temp + 50\n",
    "        return\n",
    "    \n",
    "    def drain(self):\n",
    "        if (self.state == \"full\"):\n",
    "            self.state = \"empty\"\n",
    "            self.temp = self.temp - 50\n",
    "        return"
   ]
  },
  {
   "cell_type": "code",
   "execution_count": 28,
   "metadata": {
    "collapsed": false
   },
   "outputs": [
    {
     "name": "stdout",
     "output_type": "stream",
     "text": [
      "An object with .name, .state, .color, .temp ()\n"
     ]
    }
   ],
   "source": [
    "print(cup.__doc__)"
   ]
  },
  {
   "cell_type": "code",
   "execution_count": 29,
   "metadata": {
    "collapsed": false
   },
   "outputs": [
    {
     "name": "stdout",
     "output_type": "stream",
     "text": [
      "Help on class cup in module __main__:\n",
      "\n",
      "class cup(builtins.object)\n",
      " |  An object with .name, .state, .color, .temp ()\n",
      " |  \n",
      " |  Methods defined here:\n",
      " |  \n",
      " |  __init__(self, name, color)\n",
      " |      Initialize self.  See help(type(self)) for accurate signature.\n",
      " |  \n",
      " |  drain(self)\n",
      " |  \n",
      " |  fill(self)\n",
      " |  \n",
      " |  ----------------------------------------------------------------------\n",
      " |  Data descriptors defined here:\n",
      " |  \n",
      " |  __dict__\n",
      " |      dictionary for instance variables (if defined)\n",
      " |  \n",
      " |  __weakref__\n",
      " |      list of weak references to the object (if defined)\n",
      "\n"
     ]
    }
   ],
   "source": [
    "help(cup)"
   ]
  },
  {
   "cell_type": "code",
   "execution_count": 30,
   "metadata": {
    "collapsed": false
   },
   "outputs": [
    {
     "name": "stdout",
     "output_type": "stream",
     "text": [
      "Janna's favorite mug\n",
      "green\n",
      "72\n",
      "empty\n"
     ]
    }
   ],
   "source": [
    "my_cup = cup(\"Janna's favorite mug\", \"green\")\n",
    "\n",
    "print(my_cup.name)\n",
    "print(my_cup.color)\n",
    "print(my_cup.temp)\n",
    "print(my_cup.state)"
   ]
  },
  {
   "cell_type": "code",
   "execution_count": 31,
   "metadata": {
    "collapsed": false
   },
   "outputs": [
    {
     "name": "stdout",
     "output_type": "stream",
     "text": [
      "full\n",
      "122\n"
     ]
    }
   ],
   "source": [
    "my_cup.fill()\n",
    "print(my_cup.state)\n",
    "print(my_cup.temp)"
   ]
  },
  {
   "cell_type": "code",
   "execution_count": 32,
   "metadata": {
    "collapsed": false
   },
   "outputs": [
    {
     "name": "stdout",
     "output_type": "stream",
     "text": [
      "Alper's ALPER mug\n",
      "black\n",
      "72\n",
      "empty\n"
     ]
    }
   ],
   "source": [
    "your_cup = cup(\"Alper's ALPER mug\", \"black\")\n",
    "\n",
    "your_cup.drain()\n",
    "print(your_cup.name)\n",
    "print(your_cup.color)\n",
    "print(your_cup.temp)\n",
    "print(your_cup.state)"
   ]
  },
  {
   "cell_type": "code",
   "execution_count": 33,
   "metadata": {
    "collapsed": true
   },
   "outputs": [],
   "source": [
    "def print_cup(the_cup):\n",
    "    print(the_cup.name)\n",
    "    print(the_cup.state)\n",
    "    print(the_cup.color) \n",
    "    print(the_cup.temp)\n",
    "    print(\"\")\n",
    "    return"
   ]
  },
  {
   "cell_type": "code",
   "execution_count": 34,
   "metadata": {
    "collapsed": false
   },
   "outputs": [
    {
     "name": "stdout",
     "output_type": "stream",
     "text": [
      "Janna's favorite mug\n",
      "full\n",
      "green\n",
      "122\n",
      "\n",
      "Alper's ALPER mug\n",
      "empty\n",
      "black\n",
      "72\n",
      "\n"
     ]
    }
   ],
   "source": [
    "print_cup(my_cup)\n",
    "print_cup(your_cup)"
   ]
  },
  {
   "cell_type": "code",
   "execution_count": 35,
   "metadata": {
    "collapsed": false
   },
   "outputs": [
    {
     "name": "stdout",
     "output_type": "stream",
     "text": [
      "Janna's favorite mug\n",
      "full\n",
      "green\n",
      "122\n",
      "\n",
      "Alper's ALPER mug\n",
      "empty\n",
      "black\n",
      "72\n",
      "\n"
     ]
    }
   ],
   "source": [
    "cups=[my_cup, your_cup]\n",
    "for mug in cups:\n",
    "    print_cup(mug)"
   ]
  },
  {
   "cell_type": "code",
   "execution_count": 36,
   "metadata": {
    "collapsed": true
   },
   "outputs": [],
   "source": [
    "def coffee_for_friends(a_list):\n",
    "    for cup in a_list:\n",
    "        cup.fill()"
   ]
  },
  {
   "cell_type": "code",
   "execution_count": 37,
   "metadata": {
    "collapsed": false
   },
   "outputs": [
    {
     "name": "stdout",
     "output_type": "stream",
     "text": [
      "Janna's favorite mug\n",
      "full\n",
      "green\n",
      "122\n",
      "\n",
      "Alper's ALPER mug\n",
      "full\n",
      "black\n",
      "122\n",
      "\n"
     ]
    }
   ],
   "source": [
    "coffee_for_friends(cups)\n",
    "for mug in cups:\n",
    "    print_cup(mug)"
   ]
  },
  {
   "cell_type": "markdown",
   "metadata": {},
   "source": [
    "## Packages (also called Libraries)"
   ]
  },
  {
   "cell_type": "code",
   "execution_count": 38,
   "metadata": {
    "collapsed": false
   },
   "outputs": [
    {
     "name": "stdout",
     "output_type": "stream",
     "text": [
      "/Users/jnugent\r\n"
     ]
    }
   ],
   "source": [
    "!pwd  #<-- \"!\" lets you run commands in the terminal"
   ]
  },
  {
   "cell_type": "code",
   "execution_count": 39,
   "metadata": {
    "collapsed": false
   },
   "outputs": [
    {
     "name": "stdout",
     "output_type": "stream",
     "text": [
      "Requirement already satisfied (use --upgrade to upgrade): numpy in ./anaconda3/lib/python3.5/site-packages\n",
      "\u001b[33mYou are using pip version 8.1.2, however version 9.0.1 is available.\n",
      "You should consider upgrading via the 'pip install --upgrade pip' command.\u001b[0m\n"
     ]
    }
   ],
   "source": [
    "!pip install numpy"
   ]
  },
  {
   "cell_type": "code",
   "execution_count": 40,
   "metadata": {
    "collapsed": true
   },
   "outputs": [],
   "source": [
    "import numpy as np"
   ]
  },
  {
   "cell_type": "code",
   "execution_count": 41,
   "metadata": {
    "collapsed": false
   },
   "outputs": [
    {
     "ename": "SyntaxError",
     "evalue": "invalid syntax (<ipython-input-41-d599f84c3c67>, line 1)",
     "output_type": "error",
     "traceback": [
      "\u001b[0;36m  File \u001b[0;32m\"<ipython-input-41-d599f84c3c67>\"\u001b[0;36m, line \u001b[0;32m1\u001b[0m\n\u001b[0;31m    np??  #<--- going to look at \"random\", a module in the package\u001b[0m\n\u001b[0m      ^\u001b[0m\n\u001b[0;31mSyntaxError\u001b[0m\u001b[0;31m:\u001b[0m invalid syntax\n"
     ]
    }
   ],
   "source": [
    "np??  #<--- going to look at \"random\", a module in the package"
   ]
  },
  {
   "cell_type": "code",
   "execution_count": null,
   "metadata": {
    "collapsed": true
   },
   "outputs": [],
   "source": [
    "help(np.random)  #<--- looking for \"shuffle\""
   ]
  },
  {
   "cell_type": "code",
   "execution_count": null,
   "metadata": {
    "collapsed": true
   },
   "outputs": [],
   "source": [
    "help(np.random.shuffle)  #<--- what syntax do we use? (example)"
   ]
  },
  {
   "cell_type": "code",
   "execution_count": null,
   "metadata": {
    "collapsed": true
   },
   "outputs": [],
   "source": [
    "help(range)"
   ]
  },
  {
   "cell_type": "code",
   "execution_count": null,
   "metadata": {
    "collapsed": false
   },
   "outputs": [],
   "source": [
    "my_list = list(range(0, 10))\n",
    "print(my_list)"
   ]
  },
  {
   "cell_type": "code",
   "execution_count": null,
   "metadata": {
    "collapsed": false
   },
   "outputs": [],
   "source": [
    "np.random.shuffle(my_list)\n",
    "print(my_list)"
   ]
  },
  {
   "cell_type": "markdown",
   "metadata": {},
   "source": [
    "### Overloading functions"
   ]
  },
  {
   "cell_type": "code",
   "execution_count": null,
   "metadata": {
    "collapsed": false
   },
   "outputs": [],
   "source": [
    "stringy = \"Hello\"\n",
    "print(stringy)\n",
    "print(len(stringy))"
   ]
  },
  {
   "cell_type": "code",
   "execution_count": 42,
   "metadata": {
    "collapsed": true
   },
   "outputs": [],
   "source": [
    "def len(input_string):\n",
    "    output_string = input_string + \", how's it going?\"\n",
    "    print(output_string)\n",
    "    return"
   ]
  },
  {
   "cell_type": "code",
   "execution_count": 43,
   "metadata": {
    "collapsed": false
   },
   "outputs": [
    {
     "ename": "NameError",
     "evalue": "name 'stringy' is not defined",
     "output_type": "error",
     "traceback": [
      "\u001b[0;31m---------------------------------------------------------------------------\u001b[0m",
      "\u001b[0;31mNameError\u001b[0m                                 Traceback (most recent call last)",
      "\u001b[0;32m<ipython-input-43-b27fb4bb2215>\u001b[0m in \u001b[0;36m<module>\u001b[0;34m()\u001b[0m\n\u001b[0;32m----> 1\u001b[0;31m \u001b[0mlen\u001b[0m\u001b[0;34m(\u001b[0m\u001b[0mstringy\u001b[0m\u001b[0;34m)\u001b[0m\u001b[0;34m\u001b[0m\u001b[0m\n\u001b[0m",
      "\u001b[0;31mNameError\u001b[0m: name 'stringy' is not defined"
     ]
    }
   ],
   "source": [
    "len(stringy)"
   ]
  },
  {
   "cell_type": "code",
   "execution_count": 44,
   "metadata": {
    "collapsed": false
   },
   "outputs": [
    {
     "name": "stdout",
     "output_type": "stream",
     "text": [
      "Variable             Type        Data/Info\n",
      "------------------------------------------\n",
      "a                    int         1\n",
      "add_em               function    <function add_em at 0x104173ea0>\n",
      "add_item             function    <function add_item at 0x104146488>\n",
      "announce             str         I have your result:\n",
      "b                    int         2\n",
      "coffee_for_friends   function    <function coffee_for_friends at 0x104173d90>\n",
      "cup                  type        <class '__main__.cup'>\n",
      "cups                 list        n=2\n",
      "fillCup              function    <function fillCup at 0x10417c158>\n",
      "fillCup2             function    <function fillCup2 at 0x10417c268>\n",
      "fill_cup             function    <function fill_cup at 0x10417c510>\n",
      "len                  function    <function len at 0x1093cc730>\n",
      "mug                  cup         <__main__.cup object at 0x10417f358>\n",
      "my_cup               cup         <__main__.cup object at 0x1041f8048>\n",
      "my_list              list        n=4\n",
      "my_other_list        list        n=3\n",
      "np                   module      <module 'numpy' from '/Us<...>kages/numpy/__init__.py'>\n",
      "print_cup            function    <function print_cup at 0x10417cf28>\n",
      "thing                str         red\n",
      "this                 module      <module 'this' from '/Use<...>3/lib/python3.5/this.py'>\n",
      "yet_another_list     list        n=7\n",
      "your_cup             cup         <__main__.cup object at 0x10417f358>\n"
     ]
    }
   ],
   "source": [
    "whos\n"
   ]
  },
  {
   "cell_type": "markdown",
   "metadata": {},
   "source": [
    "### You can't unload functions in python -> to clear these values, go up to the \"kernel\" menu and select \"Restart\" "
   ]
  },
  {
   "cell_type": "code",
   "execution_count": 45,
   "metadata": {
    "collapsed": false
   },
   "outputs": [
    {
     "name": "stdout",
     "output_type": "stream",
     "text": [
      "Variable             Type        Data/Info\n",
      "------------------------------------------\n",
      "a                    int         1\n",
      "add_em               function    <function add_em at 0x104173ea0>\n",
      "add_item             function    <function add_item at 0x104146488>\n",
      "announce             str         I have your result:\n",
      "b                    int         2\n",
      "coffee_for_friends   function    <function coffee_for_friends at 0x104173d90>\n",
      "cup                  type        <class '__main__.cup'>\n",
      "cups                 list        n=2\n",
      "fillCup              function    <function fillCup at 0x10417c158>\n",
      "fillCup2             function    <function fillCup2 at 0x10417c268>\n",
      "fill_cup             function    <function fill_cup at 0x10417c510>\n",
      "len                  function    <function len at 0x1093cc730>\n",
      "mug                  cup         <__main__.cup object at 0x10417f358>\n",
      "my_cup               cup         <__main__.cup object at 0x1041f8048>\n",
      "my_list              list        n=4\n",
      "my_other_list        list        n=3\n",
      "np                   module      <module 'numpy' from '/Us<...>kages/numpy/__init__.py'>\n",
      "print_cup            function    <function print_cup at 0x10417cf28>\n",
      "thing                str         red\n",
      "this                 module      <module 'this' from '/Use<...>3/lib/python3.5/this.py'>\n",
      "yet_another_list     list        n=7\n",
      "your_cup             cup         <__main__.cup object at 0x10417f358>\n"
     ]
    }
   ],
   "source": [
    "whos"
   ]
  }
 ],
 "metadata": {
  "kernelspec": {
   "display_name": "Python 3",
   "language": "python",
   "name": "python3"
  },
  "language_info": {
   "codemirror_mode": {
    "name": "ipython",
    "version": 3
   },
   "file_extension": ".py",
   "mimetype": "text/x-python",
   "name": "python",
   "nbconvert_exporter": "python",
   "pygments_lexer": "ipython3",
   "version": "3.6.1"
  }
 },
 "nbformat": 4,
 "nbformat_minor": 0
}
