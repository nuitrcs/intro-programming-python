{
 "cells": [
  {
   "cell_type": "markdown",
   "metadata": {},
   "source": [
    "# Functions\n",
    "----"
   ]
  },
  {
   "cell_type": "markdown",
   "metadata": {},
   "source": [
    "## Exercise: Write a Function: Absolute Difference\n",
    "\n",
    "Write a function that returns the absolute value of one number minus a second number (look up the function for absolute value if needed).  Call it twice from another Jupyter cell, switching the order of the two numbers that you pass to the function, and write an if/else statement that prints out if the two values returned by the function are equal.\n"
   ]
  },
  {
   "cell_type": "code",
   "execution_count": null,
   "metadata": {
    "collapsed": true
   },
   "outputs": [],
   "source": []
  },
  {
   "cell_type": "code",
   "execution_count": null,
   "metadata": {
    "collapsed": true
   },
   "outputs": [],
   "source": []
  },
  {
   "cell_type": "markdown",
   "metadata": {},
   "source": [
    "## Exercise: Write a Function: Capitalize\n",
    "\n",
    "Write a function that takes a list of six words and prints each word, but with every other word in all caps.  "
   ]
  },
  {
   "cell_type": "code",
   "execution_count": null,
   "metadata": {
    "collapsed": true
   },
   "outputs": [],
   "source": []
  },
  {
   "cell_type": "code",
   "execution_count": null,
   "metadata": {
    "collapsed": false
   },
   "outputs": [],
   "source": [
    "words = (\"yellow\", \"green\", \"blue\", \"orange\", \"white\", \"black\")"
   ]
  },
  {
   "cell_type": "markdown",
   "metadata": {},
   "source": [
    "## Exercise: Modify Function\n",
    "\n",
    "Copy your code for the above exercise and modify it so the function returns a new list (don't modify the supplied list).  Save the output from the function into a new list variable which has every other word capitalized."
   ]
  },
  {
   "cell_type": "code",
   "execution_count": null,
   "metadata": {
    "collapsed": true
   },
   "outputs": [],
   "source": []
  },
  {
   "cell_type": "code",
   "execution_count": null,
   "metadata": {
    "collapsed": false
   },
   "outputs": [],
   "source": [
    "words = [\"January\", \"February\", \"April\", \"May\", \"June\", \"July\"]"
   ]
  },
  {
   "cell_type": "markdown",
   "metadata": {},
   "source": [
    "## Exercise: Write a Function: Remove Long Words\n",
    "\n",
    "Write a function to remove every word that has more than `numchar` (a function argument) letters from a supplied list of words.  Set the default value for `numchar` to 4.  Return the values that were removed as a list.  Call the function with and without specifying the value of `numchar`.\n",
    "\n",
    "If you need more information on default values and optional arguments, see http://www.diveintopython.net/power_of_introspection/optional_arguments.html"
   ]
  },
  {
   "cell_type": "code",
   "execution_count": null,
   "metadata": {
    "collapsed": false
   },
   "outputs": [],
   "source": []
  },
  {
   "cell_type": "code",
   "execution_count": null,
   "metadata": {
    "collapsed": false
   },
   "outputs": [],
   "source": [
    "months = [\"January\", \"February\", \"March\",\"April\", \"May\", \"June\", \"July\",\n",
    "          \"August\", \"September\",\"October\",\"November\",\"December\"]"
   ]
  },
  {
   "cell_type": "markdown",
   "metadata": {},
   "source": [
    "## Exercise: Write a Function: Unique List Elements\n",
    "\n",
    "Write a Python function that takes a list and returns a new list with unique elements of the first list."
   ]
  },
  {
   "cell_type": "code",
   "execution_count": null,
   "metadata": {
    "collapsed": true
   },
   "outputs": [],
   "source": []
  },
  {
   "cell_type": "code",
   "execution_count": null,
   "metadata": {
    "collapsed": false
   },
   "outputs": [],
   "source": [
    "dup_list = [1,1,3,4,4,6,1,5,1,4,4,2]"
   ]
  },
  {
   "cell_type": "markdown",
   "metadata": {},
   "source": [
    "## Exercise: Write a Function: Reverse a String\n",
    "\n",
    "Write a function to reverse a string (don't just use the built-in function)."
   ]
  },
  {
   "cell_type": "code",
   "execution_count": null,
   "metadata": {
    "collapsed": false
   },
   "outputs": [],
   "source": []
  },
  {
   "cell_type": "code",
   "execution_count": null,
   "metadata": {
    "collapsed": false
   },
   "outputs": [],
   "source": []
  },
  {
   "cell_type": "markdown",
   "metadata": {},
   "source": [
    "## Exercise: Write a Function: Squares\n",
    "\n",
    "Write a function to create and print a list where the values are square of numbers between 1 and 15"
   ]
  },
  {
   "cell_type": "code",
   "execution_count": null,
   "metadata": {
    "collapsed": false
   },
   "outputs": [],
   "source": []
  },
  {
   "cell_type": "markdown",
   "metadata": {},
   "source": [
    "# Using Packages\n",
    "----"
   ]
  },
  {
   "cell_type": "markdown",
   "metadata": {},
   "source": [
    "## Exercise: Import numpy\n",
    "\n",
    "Import the library called \"numpy\".  Look through the package documentation to figure out how to reimpliment your solution to the exercise above, but return/print square roots instead of squaring the numbers.  Hint: You may want to look at `help(np)` after importing the package."
   ]
  },
  {
   "cell_type": "code",
   "execution_count": null,
   "metadata": {
    "collapsed": false
   },
   "outputs": [],
   "source": []
  },
  {
   "cell_type": "code",
   "execution_count": null,
   "metadata": {
    "collapsed": false
   },
   "outputs": [],
   "source": []
  },
  {
   "cell_type": "markdown",
   "metadata": {},
   "source": [
    "## Exercise: Use `matplotlib`\n",
    "\n",
    "Import library matplotlib.pyplot as plt.  To allow you to display graphs in Jupyter notebooks, after the import on a line by itself type the magic command `%matplotlib inline`.\n",
    "\n",
    "Use `help(plt.plot)` to help you make a basic plot (remember to look for the \"examples\").  Google \"pyplot tutorial\" and click on the top link; copy some of the examples into your Jupyter notebook and run them."
   ]
  },
  {
   "cell_type": "code",
   "execution_count": null,
   "metadata": {
    "collapsed": true
   },
   "outputs": [],
   "source": []
  },
  {
   "cell_type": "code",
   "execution_count": null,
   "metadata": {
    "collapsed": false
   },
   "outputs": [],
   "source": []
  },
  {
   "cell_type": "code",
   "execution_count": null,
   "metadata": {
    "collapsed": true
   },
   "outputs": [],
   "source": []
  },
  {
   "cell_type": "code",
   "execution_count": null,
   "metadata": {
    "collapsed": true
   },
   "outputs": [],
   "source": []
  },
  {
   "cell_type": "markdown",
   "metadata": {},
   "source": [
    "# Creating a Class\n",
    "----"
   ]
  },
  {
   "cell_type": "markdown",
   "metadata": {},
   "source": [
    "## Exercise: Create a Class\n",
    "\n",
    "Create a class called `grad_student`.  Give your grad_students the attributes \"name\", \"year\", \"school\", and \"advisor\".  Write methods for things graduate students do, for example a .graduate() method that might change the grad_student name to include \"PhD\" at the end of it.  \n",
    "\n",
    "You can control how the `print` function prints objects of a class by defining a function in the class called `__str__`:\n",
    "\n",
    "Example:<br>\n",
    "```\n",
    "def __str__(self):\n",
    "    return \"this is the string that will print\"\n",
    "```\n",
    "\n",
    "Create such a function to print the status of grad_students (it might be handy to know about [string formatting](https://pyformat.info/)).  Create three grad_students and print their values out.  Pick one and let them graduate, then print their values out again to confirm the name change."
   ]
  },
  {
   "cell_type": "markdown",
   "metadata": {},
   "source": [
    "# More Practice\n",
    "----\n",
    "\n",
    "Ready for more practice?  See the resources listed in the [GitHub repository](https://github.com/nuitrcs/pythonworkshops/tree/master/intropython), particularly the Practice section, for more exercises."
   ]
  }
 ],
 "metadata": {
  "kernelspec": {
   "display_name": "Python 3",
   "language": "python",
   "name": "python3"
  },
  "language_info": {
   "codemirror_mode": {
    "name": "ipython",
    "version": 3
   },
   "file_extension": ".py",
   "mimetype": "text/x-python",
   "name": "python",
   "nbconvert_exporter": "python",
   "pygments_lexer": "ipython3",
   "version": "3.6.1"
  }
 },
 "nbformat": 4,
 "nbformat_minor": 0
}
